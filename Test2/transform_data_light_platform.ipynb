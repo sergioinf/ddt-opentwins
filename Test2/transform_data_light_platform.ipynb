{
 "cells": [
  {
   "cell_type": "code",
   "execution_count": 1,
   "metadata": {},
   "outputs": [],
   "source": [
    "import numpy as np\n",
    "import plotly.express as px\n",
    "import pandas as pd\n",
    "import time\n",
    "from datetime import timedelta\n"
   ]
  },
  {
   "cell_type": "code",
   "execution_count": 2,
   "metadata": {},
   "outputs": [],
   "source": [
    "# Load the data into different dataframes\n",
    "light_cpu       = pd.read_csv('light cpu.csv')\n",
    "light_mem       = pd.read_csv('light mem.csv')\n",
    "light_network   = pd.read_csv('light network.csv')\n",
    "\n",
    "\n",
    "#Set time as index\n",
    "light_cpu['Time'] = [timedelta(seconds=i * 15).__str__() for i in range(len(light_cpu))]\n",
    "light_cpu.set_index('Time', inplace=True)\n",
    "light_cpu[\"Combined\"] = light_cpu[light_cpu.keys()].sum(axis=1)\n",
    "\n",
    "#Set time as index\n",
    "light_mem['Time'] = [timedelta(seconds=i * 15).__str__() for i in range(len(light_mem))]\n",
    "light_mem.set_index('Time', inplace=True)\n",
    "light_mem = light_mem.apply(lambda x: x/1000000)\n",
    "light_mem[\"Combined\"] = light_mem[light_mem.keys()].sum(axis=1)\n",
    "\n",
    "#Set time as index\n",
    "light_network['Time'] = [timedelta(seconds=i * 15).__str__() for i in range(len(light_network))]\n",
    "light_network.set_index('Time', inplace=True)\n",
    "light_network = light_network.apply(lambda x: x/1000000)\n",
    "light_network[\"Combined\"] = light_network[light_network.keys()].sum(axis=1)\n"
   ]
  },
  {
   "cell_type": "markdown",
   "metadata": {},
   "source": [
    "# Lightweight platform\n",
    "### CPU"
   ]
  },
  {
   "cell_type": "code",
   "execution_count": 3,
   "metadata": {},
   "outputs": [
    {
     "data": {
      "text/html": [
       "<div>\n",
       "<style scoped>\n",
       "    .dataframe tbody tr th:only-of-type {\n",
       "        vertical-align: middle;\n",
       "    }\n",
       "\n",
       "    .dataframe tbody tr th {\n",
       "        vertical-align: top;\n",
       "    }\n",
       "\n",
       "    .dataframe thead th {\n",
       "        text-align: right;\n",
       "    }\n",
       "</style>\n",
       "<table border=\"1\" class=\"dataframe\">\n",
       "  <thead>\n",
       "    <tr style=\"text-align: right;\">\n",
       "      <th></th>\n",
       "      <th>ot-ditto-connectivity-7b564988f7-kbvbr</th>\n",
       "      <th>ot-ditto-gateway-5b9f6dc596-p47k2</th>\n",
       "      <th>ot-ditto-mongodb-669768b5b4-kw98h</th>\n",
       "      <th>ot-ditto-nginx-d4bb498fc-9wjlb</th>\n",
       "      <th>ot-ditto-policies-575d5579db-pl9dm</th>\n",
       "      <th>ot-ditto-things-588dd96f9-lrw9k</th>\n",
       "      <th>ot-ditto-thingssearch-c9559c6d-dbvf9</th>\n",
       "      <th>ot-mosquitto-5f7bdff747-rtf8v</th>\n",
       "      <th>Combined</th>\n",
       "    </tr>\n",
       "    <tr>\n",
       "      <th>Time</th>\n",
       "      <th></th>\n",
       "      <th></th>\n",
       "      <th></th>\n",
       "      <th></th>\n",
       "      <th></th>\n",
       "      <th></th>\n",
       "      <th></th>\n",
       "      <th></th>\n",
       "      <th></th>\n",
       "    </tr>\n",
       "  </thead>\n",
       "  <tbody>\n",
       "    <tr>\n",
       "      <th>0:00:00</th>\n",
       "      <td>3.507269</td>\n",
       "      <td>2.910820</td>\n",
       "      <td>27.060421</td>\n",
       "      <td>0</td>\n",
       "      <td>2.374734</td>\n",
       "      <td>2.934781</td>\n",
       "      <td>2.250136</td>\n",
       "      <td>0.037745</td>\n",
       "      <td>41.075906</td>\n",
       "    </tr>\n",
       "    <tr>\n",
       "      <th>0:00:15</th>\n",
       "      <td>3.507885</td>\n",
       "      <td>2.911329</td>\n",
       "      <td>26.869314</td>\n",
       "      <td>0</td>\n",
       "      <td>2.373474</td>\n",
       "      <td>2.936116</td>\n",
       "      <td>2.238499</td>\n",
       "      <td>0.037773</td>\n",
       "      <td>40.874390</td>\n",
       "    </tr>\n",
       "    <tr>\n",
       "      <th>0:00:30</th>\n",
       "      <td>3.441378</td>\n",
       "      <td>2.894632</td>\n",
       "      <td>27.067625</td>\n",
       "      <td>0</td>\n",
       "      <td>2.385736</td>\n",
       "      <td>2.948400</td>\n",
       "      <td>2.249899</td>\n",
       "      <td>0.037774</td>\n",
       "      <td>41.025444</td>\n",
       "    </tr>\n",
       "    <tr>\n",
       "      <th>0:00:45</th>\n",
       "      <td>3.454030</td>\n",
       "      <td>2.901847</td>\n",
       "      <td>26.948816</td>\n",
       "      <td>0</td>\n",
       "      <td>2.400028</td>\n",
       "      <td>2.967019</td>\n",
       "      <td>2.252133</td>\n",
       "      <td>0.037831</td>\n",
       "      <td>40.961704</td>\n",
       "    </tr>\n",
       "    <tr>\n",
       "      <th>0:01:00</th>\n",
       "      <td>3.469825</td>\n",
       "      <td>2.873114</td>\n",
       "      <td>27.734444</td>\n",
       "      <td>0</td>\n",
       "      <td>2.409218</td>\n",
       "      <td>2.979920</td>\n",
       "      <td>2.258876</td>\n",
       "      <td>0.037686</td>\n",
       "      <td>41.763083</td>\n",
       "    </tr>\n",
       "  </tbody>\n",
       "</table>\n",
       "</div>"
      ],
      "text/plain": [
       "         ot-ditto-connectivity-7b564988f7-kbvbr  \\\n",
       "Time                                              \n",
       "0:00:00                                3.507269   \n",
       "0:00:15                                3.507885   \n",
       "0:00:30                                3.441378   \n",
       "0:00:45                                3.454030   \n",
       "0:01:00                                3.469825   \n",
       "\n",
       "         ot-ditto-gateway-5b9f6dc596-p47k2  ot-ditto-mongodb-669768b5b4-kw98h  \\\n",
       "Time                                                                            \n",
       "0:00:00                           2.910820                          27.060421   \n",
       "0:00:15                           2.911329                          26.869314   \n",
       "0:00:30                           2.894632                          27.067625   \n",
       "0:00:45                           2.901847                          26.948816   \n",
       "0:01:00                           2.873114                          27.734444   \n",
       "\n",
       "         ot-ditto-nginx-d4bb498fc-9wjlb  ot-ditto-policies-575d5579db-pl9dm  \\\n",
       "Time                                                                          \n",
       "0:00:00                               0                            2.374734   \n",
       "0:00:15                               0                            2.373474   \n",
       "0:00:30                               0                            2.385736   \n",
       "0:00:45                               0                            2.400028   \n",
       "0:01:00                               0                            2.409218   \n",
       "\n",
       "         ot-ditto-things-588dd96f9-lrw9k  \\\n",
       "Time                                       \n",
       "0:00:00                         2.934781   \n",
       "0:00:15                         2.936116   \n",
       "0:00:30                         2.948400   \n",
       "0:00:45                         2.967019   \n",
       "0:01:00                         2.979920   \n",
       "\n",
       "         ot-ditto-thingssearch-c9559c6d-dbvf9  ot-mosquitto-5f7bdff747-rtf8v  \\\n",
       "Time                                                                           \n",
       "0:00:00                              2.250136                       0.037745   \n",
       "0:00:15                              2.238499                       0.037773   \n",
       "0:00:30                              2.249899                       0.037774   \n",
       "0:00:45                              2.252133                       0.037831   \n",
       "0:01:00                              2.258876                       0.037686   \n",
       "\n",
       "          Combined  \n",
       "Time                \n",
       "0:00:00  41.075906  \n",
       "0:00:15  40.874390  \n",
       "0:00:30  41.025444  \n",
       "0:00:45  40.961704  \n",
       "0:01:00  41.763083  "
      ]
     },
     "execution_count": 3,
     "metadata": {},
     "output_type": "execute_result"
    }
   ],
   "source": [
    "light_cpu.head()"
   ]
  },
  {
   "cell_type": "code",
   "execution_count": 4,
   "metadata": {},
   "outputs": [
    {
     "data": {
      "image/png": "[encoded data removed]",
      "text/plain": [
       "<Figure size 1500x500 with 1 Axes>"
      ]
     },
     "metadata": {},
     "output_type": "display_data"
    },
    {
     "data": {
      "application/vnd.plotly.v1+json": {
       "config": {
        "plotlyServerURL": "https://plot.ly"
       },
       "data": [
        {
         "hovertemplate": "variable=ot-ditto-connectivity-7b564988f7-kbvbr<br>Time=%{x}<br>value=%{y}<extra></extra>",
         "legendgroup": "ot-ditto-connectivity-7b564988f7-kbvbr",
         "line": {
          "color": "#636efa",
          "dash": "solid"
         },
         "marker": {
          "symbol": "circle"
         },
         "mode": "lines",
         "name": "ot-ditto-connectivity-7b564988f7-kbvbr",
         "orientation": "v",
         "showlegend": true,
         "type": "scatter",
         "x": [
          "0:00:00",
          "0:00:15",
          "0:00:30",
          "0:00:45",
          "0:01:00",
          "0:01:15",
          "0:01:30",
          "0:01:45",
          "0:02:00",
          "0:02:15",
          "0:02:30",
          "0:02:45",
          "0:03:00",
          "0:03:15",
          "0:03:30",
          "0:03:45",
          "0:04:00",
          "0:04:15",
          "0:04:30",
          "0:04:45",
          "0:05:00",
          "0:05:15",
          "0:05:30",
          "0:05:45",
          "0:06:00",
          "0:06:15",
          "0:06:30",
          "0:06:45",
          "0:07:00",
          "0:07:15",
          "0:07:30",
          "0:07:45",
          "0:08:00",
          "0:08:15",
          "0:08:30",
          "0:08:45",
          "0:09:00",
          "0:09:15",
          "0:09:30",
          "0:09:45",
          "0:10:00",
          "0:10:15",
          "0:10:30",
          "0:10:45",
          "0:11:00",
          "0:11:15",
          "0:11:30",
          "0:11:45",
          "0:12:00",
          "0:12:15",
          "0:12:30",
          "0:12:45",
          "0:13:00",
          "0:13:15",
          "0:13:30",
          "0:13:45",
          "0:14:00",
          "0:14:15",
          "0:14:30",
          "0:14:45",
          "0:15:00"
         ],
         "xaxis": "x",
         "y": [
          3.5072694112403187,
          3.5078850544673634,
          3.441377614287329,
          3.4540302315422293,
          3.469825411811017,
          3.430827521004662,
          3.396595162159471,
          3.407169774822864,
          3.394893928919989,
          3.380389160626931,
          3.3784073158147154,
          3.398765983069373,
          3.341948298588453,
          3.3298651166154145,
          3.252197773967519,
          3.349429165751366,
          3.343427395893908,
          3.33026364895175,
          3.329334567440742,
          3.3368077863876158,
          3.32798080672419,
          3.3379285378127843,
          3.320476930866211,
          3.3077902358016704,
          3.31935281356596,
          3.323988211436641,
          3.344129023865963,
          3.345433023370921,
          3.3345815907608185,
          3.3178208182644435,
          3.308095459454554,
          3.3133424890912844,
          3.327385501233019,
          3.3155803839711164,
          3.306835727634738,
          3.3151432242354497,
          3.3196473684952528,
          3.3161178974352943,
          3.3030949529750893,
          3.3184884844523768,
          3.319137650991,
          3.330096621403828,
          3.322682404518928,
          3.2094615199214878,
          3.318137882929101,
          3.2863698519514326,
          3.2789795192873306,
          3.280922637258394,
          3.285786029523668,
          3.291938665520723,
          3.284120155133795,
          3.280366607157878,
          3.2617631876381425,
          3.2706496338463715,
          3.1702995378979,
          3.278136702267469,
          3.29526470713719,
          3.3007063304737523,
          3.29848591060529,
          3.309188864272609,
          3.309412406280586
         ],
         "yaxis": "y"
        },
        {
         "hovertemplate": "variable=ot-ditto-gateway-5b9f6dc596-p47k2<br>Time=%{x}<br>value=%{y}<extra></extra>",
         "legendgroup": "ot-ditto-gateway-5b9f6dc596-p47k2",
         "line": {
          "color": "#EF553B",
          "dash": "solid"
         },
         "marker": {
          "symbol": "circle"
         },
         "mode": "lines",
         "name": "ot-ditto-gateway-5b9f6dc596-p47k2",
         "orientation": "v",
         "showlegend": true,
         "type": "scatter",
         "x": [
          "0:00:00",
          "0:00:15",
          "0:00:30",
          "0:00:45",
          "0:01:00",
          "0:01:15",
          "0:01:30",
          "0:01:45",
          "0:02:00",
          "0:02:15",
          "0:02:30",
          "0:02:45",
          "0:03:00",
          "0:03:15",
          "0:03:30",
          "0:03:45",
          "0:04:00",
          "0:04:15",
          "0:04:30",
          "0:04:45",
          "0:05:00",
          "0:05:15",
          "0:05:30",
          "0:05:45",
          "0:06:00",
          "0:06:15",
          "0:06:30",
          "0:06:45",
          "0:07:00",
          "0:07:15",
          "0:07:30",
          "0:07:45",
          "0:08:00",
          "0:08:15",
          "0:08:30",
          "0:08:45",
          "0:09:00",
          "0:09:15",
          "0:09:30",
          "0:09:45",
          "0:10:00",
          "0:10:15",
          "0:10:30",
          "0:10:45",
          "0:11:00",
          "0:11:15",
          "0:11:30",
          "0:11:45",
          "0:12:00",
          "0:12:15",
          "0:12:30",
          "0:12:45",
          "0:13:00",
          "0:13:15",
          "0:13:30",
          "0:13:45",
          "0:14:00",
          "0:14:15",
          "0:14:30",
          "0:14:45",
          "0:15:00"
         ],
         "xaxis": "x",
         "y": [
          2.9108203982037804,
          2.911328699276379,
          2.894631860728556,
          2.901846526574537,
          2.8731139877867844,
          2.87973974017194,
          2.8718392821069045,
          2.878403684418368,
          2.880256675255486,
          2.892080313736808,
          2.887114575078298,
          2.886529235840978,
          2.856161891934146,
          2.8533124091665014,
          2.8343888578093663,
          2.833890874485993,
          2.848765848900993,
          2.8465557217916158,
          2.8381814645251566,
          2.837217838938257,
          2.867027255095931,
          2.867027255095931,
          2.8682974607950293,
          2.8619358216134456,
          2.761699044385749,
          2.848571428571414,
          2.8435858343550806,
          2.850616254351797,
          2.858094165541572,
          2.8622219168622265,
          2.852680716712252,
          2.8603627032003165,
          2.860307477530029,
          2.875507900286279,
          2.763665491936308,
          2.87357566109486,
          2.884217783062167,
          2.883146095510935,
          2.8939617884233475,
          2.8844202752553074,
          2.890918155196153,
          2.895189523468164,
          2.905991743401912,
          2.9112210979637925,
          2.9277383173679934,
          2.9357002142249837,
          2.93235976052883,
          2.9202247738513742,
          2.90811206147647,
          2.9183546853027997,
          2.921899974584156,
          2.91609167588506,
          2.901661102265233,
          2.9007871408103254,
          2.9102472537869324,
          2.9129588046128903,
          2.90483805744984,
          2.8861335372838424,
          2.875869641214696,
          2.8742544925700697,
          2.8686350331060733
         ],
         "yaxis": "y"
        },
        {
         "hovertemplate": "variable=ot-ditto-mongodb-669768b5b4-kw98h<br>Time=%{x}<br>value=%{y}<extra></extra>",
         "legendgroup": "ot-ditto-mongodb-669768b5b4-kw98h",
         "line": {
          "color": "#00cc96",
          "dash": "solid"
         },
         "marker": {
          "symbol": "circle"
         },
         "mode": "lines",
         "name": "ot-ditto-mongodb-669768b5b4-kw98h",
         "orientation": "v",
         "showlegend": true,
         "type": "scatter",
         "x": [
          "0:00:00",
          "0:00:15",
          "0:00:30",
          "0:00:45",
          "0:01:00",
          "0:01:15",
          "0:01:30",
          "0:01:45",
          "0:02:00",
          "0:02:15",
          "0:02:30",
          "0:02:45",
          "0:03:00",
          "0:03:15",
          "0:03:30",
          "0:03:45",
          "0:04:00",
          "0:04:15",
          "0:04:30",
          "0:04:45",
          "0:05:00",
          "0:05:15",
          "0:05:30",
          "0:05:45",
          "0:06:00",
          "0:06:15",
          "0:06:30",
          "0:06:45",
          "0:07:00",
          "0:07:15",
          "0:07:30",
          "0:07:45",
          "0:08:00",
          "0:08:15",
          "0:08:30",
          "0:08:45",
          "0:09:00",
          "0:09:15",
          "0:09:30",
          "0:09:45",
          "0:10:00",
          "0:10:15",
          "0:10:30",
          "0:10:45",
          "0:11:00",
          "0:11:15",
          "0:11:30",
          "0:11:45",
          "0:12:00",
          "0:12:15",
          "0:12:30",
          "0:12:45",
          "0:13:00",
          "0:13:15",
          "0:13:30",
          "0:13:45",
          "0:14:00",
          "0:14:15",
          "0:14:30",
          "0:14:45",
          "0:15:00"
         ],
         "xaxis": "x",
         "y": [
          27.060420520216404,
          26.869314102230817,
          27.06762520542637,
          26.94881574068723,
          27.734444235920275,
          28.01399703818681,
          26.82029619062413,
          26.931746545204977,
          27.322521794150667,
          26.538044801813754,
          27.8513685415656,
          27.014970830260392,
          27.510450415937783,
          27.56181898417896,
          27.49517405556772,
          26.86325592981065,
          26.66393257716237,
          26.84087796411317,
          27.180673944993167,
          26.85407553968296,
          26.640238544233856,
          26.732748556574315,
          26.899893084976657,
          27.10734951028352,
          26.81215742317706,
          27.69975828958388,
          27.00865725451593,
          27.24455040479521,
          27.03342840824022,
          26.68057237299908,
          27.84560116478981,
          26.620611618047057,
          26.85251313373068,
          26.49555743378983,
          27.629574674748618,
          26.88113822546353,
          27.255626912901587,
          27.42224999567849,
          27.459582796702147,
          26.49745562513481,
          27.39386546831799,
          27.78923636287286,
          27.029485339277947,
          27.38838120194448,
          27.022927955011927,
          27.67510801845498,
          26.643286324859417,
          27.434784695411224,
          27.72779538678772,
          27.020823657629546,
          27.144683047921674,
          27.00995556883709,
          27.32542189352253,
          26.717640431636365,
          27.592659769603824,
          26.64562202051618,
          26.68839074256765,
          26.758095587689905,
          27.56732048128548,
          26.869425527715464,
          26.326973700173845
         ],
         "yaxis": "y"
        },
        {
         "hovertemplate": "variable=ot-ditto-nginx-d4bb498fc-9wjlb<br>Time=%{x}<br>value=%{y}<extra></extra>",
         "legendgroup": "ot-ditto-nginx-d4bb498fc-9wjlb",
         "line": {
          "color": "#ab63fa",
          "dash": "solid"
         },
         "marker": {
          "symbol": "circle"
         },
         "mode": "lines",
         "name": "ot-ditto-nginx-d4bb498fc-9wjlb",
         "orientation": "v",
         "showlegend": true,
         "type": "scatter",
         "x": [
          "0:00:00",
          "0:00:15",
          "0:00:30",
          "0:00:45",
          "0:01:00",
          "0:01:15",
          "0:01:30",
          "0:01:45",
          "0:02:00",
          "0:02:15",
          "0:02:30",
          "0:02:45",
          "0:03:00",
          "0:03:15",
          "0:03:30",
          "0:03:45",
          "0:04:00",
          "0:04:15",
          "0:04:30",
          "0:04:45",
          "0:05:00",
          "0:05:15",
          "0:05:30",
          "0:05:45",
          "0:06:00",
          "0:06:15",
          "0:06:30",
          "0:06:45",
          "0:07:00",
          "0:07:15",
          "0:07:30",
          "0:07:45",
          "0:08:00",
          "0:08:15",
          "0:08:30",
          "0:08:45",
          "0:09:00",
          "0:09:15",
          "0:09:30",
          "0:09:45",
          "0:10:00",
          "0:10:15",
          "0:10:30",
          "0:10:45",
          "0:11:00",
          "0:11:15",
          "0:11:30",
          "0:11:45",
          "0:12:00",
          "0:12:15",
          "0:12:30",
          "0:12:45",
          "0:13:00",
          "0:13:15",
          "0:13:30",
          "0:13:45",
          "0:14:00",
          "0:14:15",
          "0:14:30",
          "0:14:45",
          "0:15:00"
         ],
         "xaxis": "x",
         "y": [
          0,
          0,
          0,
          0,
          0,
          0,
          0,
          0,
          0,
          0,
          0,
          0,
          0,
          0,
          0,
          0,
          0,
          0,
          0,
          0,
          0,
          0,
          0,
          0,
          0,
          0,
          0,
          0,
          0,
          0,
          0,
          0,
          0,
          0,
          0,
          0,
          0,
          0,
          0,
          0,
          0,
          0,
          0,
          0,
          0,
          0,
          0,
          0,
          0,
          0,
          0,
          0,
          0,
          0,
          0,
          0,
          0,
          0,
          0,
          0,
          0
         ],
         "yaxis": "y"
        },
        {
         "hovertemplate": "variable=ot-ditto-policies-575d5579db-pl9dm<br>Time=%{x}<br>value=%{y}<extra></extra>",
         "legendgroup": "ot-ditto-policies-575d5579db-pl9dm",
         "line": {
          "color": "#FFA15A",
          "dash": "solid"
         },
         "marker": {
          "symbol": "circle"
         },
         "mode": "lines",
         "name": "ot-ditto-policies-575d5579db-pl9dm",
         "orientation": "v",
         "showlegend": true,
         "type": "scatter",
         "x": [
          "0:00:00",
          "0:00:15",
          "0:00:30",
          "0:00:45",
          "0:01:00",
          "0:01:15",
          "0:01:30",
          "0:01:45",
          "0:02:00",
          "0:02:15",
          "0:02:30",
          "0:02:45",
          "0:03:00",
          "0:03:15",
          "0:03:30",
          "0:03:45",
          "0:04:00",
          "0:04:15",
          "0:04:30",
          "0:04:45",
          "0:05:00",
          "0:05:15",
          "0:05:30",
          "0:05:45",
          "0:06:00",
          "0:06:15",
          "0:06:30",
          "0:06:45",
          "0:07:00",
          "0:07:15",
          "0:07:30",
          "0:07:45",
          "0:08:00",
          "0:08:15",
          "0:08:30",
          "0:08:45",
          "0:09:00",
          "0:09:15",
          "0:09:30",
          "0:09:45",
          "0:10:00",
          "0:10:15",
          "0:10:30",
          "0:10:45",
          "0:11:00",
          "0:11:15",
          "0:11:30",
          "0:11:45",
          "0:12:00",
          "0:12:15",
          "0:12:30",
          "0:12:45",
          "0:13:00",
          "0:13:15",
          "0:13:30",
          "0:13:45",
          "0:14:00",
          "0:14:15",
          "0:14:30",
          "0:14:45",
          "0:15:00"
         ],
         "xaxis": "x",
         "y": [
          2.3747340316845382,
          2.373474196411887,
          2.3857360358120148,
          2.4000284682683417,
          2.40921819167727,
          2.4051447229086045,
          2.4053272860735784,
          2.4255949284899407,
          2.417437198983369,
          2.429446301275419,
          2.4104821646908103,
          2.412511708158678,
          2.4274567312223096,
          2.4280248481764533,
          2.4214016269342444,
          2.3451147754374952,
          2.4180300988398216,
          2.424464665101182,
          2.418902653144277,
          2.416497758380763,
          2.425976883652796,
          2.3261307543419685,
          2.40038128311614,
          2.3933664350238195,
          2.3968725595249665,
          2.3931615190314286,
          2.367052461062704,
          2.374901820001498,
          2.369432040988705,
          2.3747890284105893,
          2.3764702333636407,
          2.37801245189289,
          2.3850421138361693,
          2.3797890401045936,
          2.3743419832043973,
          2.379653935344475,
          2.374420588315341,
          2.29991931800092,
          2.3816847629890545,
          2.3003074753138444,
          2.384024824266037,
          2.382445059788588,
          2.3810692537930875,
          2.376962886454986,
          2.3795402853285803,
          2.3858564399523505,
          2.3841908239805325,
          2.3883076169483903,
          2.382691970762021,
          2.378201703875326,
          2.3786161371580903,
          2.3708151853505965,
          2.3658863520202686,
          2.3615903401763347,
          2.356384908521093,
          2.356464886411114,
          2.361226207598297,
          2.362723133000648,
          2.348650775927417,
          2.3491734938262865,
          2.3473051702618237
         ],
         "yaxis": "y"
        },
        {
         "hovertemplate": "variable=ot-ditto-things-588dd96f9-lrw9k<br>Time=%{x}<br>value=%{y}<extra></extra>",
         "legendgroup": "ot-ditto-things-588dd96f9-lrw9k",
         "line": {
          "color": "#19d3f3",
          "dash": "solid"
         },
         "marker": {
          "symbol": "circle"
         },
         "mode": "lines",
         "name": "ot-ditto-things-588dd96f9-lrw9k",
         "orientation": "v",
         "showlegend": true,
         "type": "scatter",
         "x": [
          "0:00:00",
          "0:00:15",
          "0:00:30",
          "0:00:45",
          "0:01:00",
          "0:01:15",
          "0:01:30",
          "0:01:45",
          "0:02:00",
          "0:02:15",
          "0:02:30",
          "0:02:45",
          "0:03:00",
          "0:03:15",
          "0:03:30",
          "0:03:45",
          "0:04:00",
          "0:04:15",
          "0:04:30",
          "0:04:45",
          "0:05:00",
          "0:05:15",
          "0:05:30",
          "0:05:45",
          "0:06:00",
          "0:06:15",
          "0:06:30",
          "0:06:45",
          "0:07:00",
          "0:07:15",
          "0:07:30",
          "0:07:45",
          "0:08:00",
          "0:08:15",
          "0:08:30",
          "0:08:45",
          "0:09:00",
          "0:09:15",
          "0:09:30",
          "0:09:45",
          "0:10:00",
          "0:10:15",
          "0:10:30",
          "0:10:45",
          "0:11:00",
          "0:11:15",
          "0:11:30",
          "0:11:45",
          "0:12:00",
          "0:12:15",
          "0:12:30",
          "0:12:45",
          "0:13:00",
          "0:13:15",
          "0:13:30",
          "0:13:45",
          "0:14:00",
          "0:14:15",
          "0:14:30",
          "0:14:45",
          "0:15:00"
         ],
         "xaxis": "x",
         "y": [
          2.9347811319301824,
          2.9361162199802626,
          2.948400372365904,
          2.9670194730484782,
          2.9799195517572032,
          2.974140637854497,
          2.968735254214707,
          2.9922651683356563,
          2.992264420271107,
          2.9934512350649505,
          2.987141740800982,
          2.866904659927707,
          2.9982914347533924,
          3.004401344874891,
          3.0053059732665406,
          2.9912961535765605,
          2.978377843439332,
          2.989476851409244,
          2.990809987273946,
          2.9840739302687407,
          2.987160796388808,
          2.961182539627807,
          2.9597680059492744,
          2.951420729352265,
          2.955822504627963,
          2.954704918730331,
          2.943353567625173,
          2.947941666608436,
          2.95284601430708,
          2.9484983870456345,
          2.93140404164546,
          2.93140404164546,
          2.9460848232877463,
          2.944113142960096,
          2.951579804896214,
          2.9565750871560987,
          2.960366136421226,
          2.963447676339124,
          2.9742888756667862,
          2.97042012614485,
          2.9807747991863938,
          2.9838520744426917,
          2.982897645618617,
          2.984756328468761,
          2.9852681789492177,
          2.9772342512470185,
          2.973875920830827,
          2.9808311636564904,
          2.986390798621564,
          2.992543862765878,
          2.74361929824552,
          2.9846762188643297,
          2.9873917059895096,
          2.9938403391388144,
          2.997243615294911,
          2.990203856522851,
          2.97659033697331,
          2.876603043427168,
          2.9920706999149207,
          2.9949507215272035,
          2.9981546992036345
         ],
         "yaxis": "y"
        },
        {
         "hovertemplate": "variable=ot-ditto-thingssearch-c9559c6d-dbvf9<br>Time=%{x}<br>value=%{y}<extra></extra>",
         "legendgroup": "ot-ditto-thingssearch-c9559c6d-dbvf9",
         "line": {
          "color": "#FF6692",
          "dash": "solid"
         },
         "marker": {
          "symbol": "circle"
         },
         "mode": "lines",
         "name": "ot-ditto-thingssearch-c9559c6d-dbvf9",
         "orientation": "v",
         "showlegend": true,
         "type": "scatter",
         "x": [
          "0:00:00",
          "0:00:15",
          "0:00:30",
          "0:00:45",
          "0:01:00",
          "0:01:15",
          "0:01:30",
          "0:01:45",
          "0:02:00",
          "0:02:15",
          "0:02:30",
          "0:02:45",
          "0:03:00",
          "0:03:15",
          "0:03:30",
          "0:03:45",
          "0:04:00",
          "0:04:15",
          "0:04:30",
          "0:04:45",
          "0:05:00",
          "0:05:15",
          "0:05:30",
          "0:05:45",
          "0:06:00",
          "0:06:15",
          "0:06:30",
          "0:06:45",
          "0:07:00",
          "0:07:15",
          "0:07:30",
          "0:07:45",
          "0:08:00",
          "0:08:15",
          "0:08:30",
          "0:08:45",
          "0:09:00",
          "0:09:15",
          "0:09:30",
          "0:09:45",
          "0:10:00",
          "0:10:15",
          "0:10:30",
          "0:10:45",
          "0:11:00",
          "0:11:15",
          "0:11:30",
          "0:11:45",
          "0:12:00",
          "0:12:15",
          "0:12:30",
          "0:12:45",
          "0:13:00",
          "0:13:15",
          "0:13:30",
          "0:13:45",
          "0:14:00",
          "0:14:15",
          "0:14:30",
          "0:14:45",
          "0:15:00"
         ],
         "xaxis": "x",
         "y": [
          2.2501362594214416,
          2.2384992765968126,
          2.24989949783692,
          2.252132706352332,
          2.2588759399961926,
          2.231954340838218,
          2.231954340838218,
          2.2372088091172326,
          2.225552829687098,
          2.215543989382493,
          2.197027165556097,
          2.2109155405288576,
          2.221201983640847,
          2.2119925553410265,
          2.221282326124064,
          2.2379260683339397,
          2.229833528641395,
          2.230778085355017,
          2.2240521585135733,
          2.220817724576795,
          2.22501048180464,
          2.20920108147865,
          2.210146786326667,
          2.2076069026555265,
          2.2127294387105803,
          2.131418018923785,
          2.1924547714707194,
          2.196180493390997,
          2.198474495582422,
          2.189469805484617,
          2.1756096509195686,
          2.187543305247568,
          2.189635332908718,
          2.1771244702114,
          2.160978472730445,
          2.1728685509911227,
          2.164320913673365,
          2.158754502230533,
          2.168807685896175,
          2.093518776647945,
          2.1689753795552704,
          2.1793764279181995,
          2.1768766119660654,
          2.183021969548273,
          2.1830879886972463,
          2.192246769049957,
          2.1850293914489525,
          2.1981541963921365,
          2.2001473583994478,
          2.102005309772777,
          2.204158669225902,
          2.2326650706082662,
          2.2357936308576867,
          2.2415103357629538,
          2.162585621915469,
          2.2521699372250565,
          2.254652758904258,
          2.2601718490520626,
          2.191213419730037,
          2.2743766344647955,
          2.2808814825578585
         ],
         "yaxis": "y"
        },
        {
         "hovertemplate": "variable=ot-mosquitto-5f7bdff747-rtf8v<br>Time=%{x}<br>value=%{y}<extra></extra>",
         "legendgroup": "ot-mosquitto-5f7bdff747-rtf8v",
         "line": {
          "color": "#B6E880",
          "dash": "solid"
         },
         "marker": {
          "symbol": "circle"
         },
         "mode": "lines",
         "name": "ot-mosquitto-5f7bdff747-rtf8v",
         "orientation": "v",
         "showlegend": true,
         "type": "scatter",
         "x": [
          "0:00:00",
          "0:00:15",
          "0:00:30",
          "0:00:45",
          "0:01:00",
          "0:01:15",
          "0:01:30",
          "0:01:45",
          "0:02:00",
          "0:02:15",
          "0:02:30",
          "0:02:45",
          "0:03:00",
          "0:03:15",
          "0:03:30",
          "0:03:45",
          "0:04:00",
          "0:04:15",
          "0:04:30",
          "0:04:45",
          "0:05:00",
          "0:05:15",
          "0:05:30",
          "0:05:45",
          "0:06:00",
          "0:06:15",
          "0:06:30",
          "0:06:45",
          "0:07:00",
          "0:07:15",
          "0:07:30",
          "0:07:45",
          "0:08:00",
          "0:08:15",
          "0:08:30",
          "0:08:45",
          "0:09:00",
          "0:09:15",
          "0:09:30",
          "0:09:45",
          "0:10:00",
          "0:10:15",
          "0:10:30",
          "0:10:45",
          "0:11:00",
          "0:11:15",
          "0:11:30",
          "0:11:45",
          "0:12:00",
          "0:12:15",
          "0:12:30",
          "0:12:45",
          "0:13:00",
          "0:13:15",
          "0:13:30",
          "0:13:45",
          "0:14:00",
          "0:14:15",
          "0:14:30",
          "0:14:45",
          "0:15:00"
         ],
         "xaxis": "x",
         "y": [
          0.0377447348925812,
          0.037772617843559,
          0.0377738935449389,
          0.0378305198175312,
          0.0376855853666268,
          0.0379240122742452,
          0.0378609247904749,
          0.0365212804853883,
          0.0376324112309583,
          0.037834636665563,
          0.0377209159913983,
          0.0376109817658827,
          0.0375698556859448,
          0.0377229354143656,
          0.0377359626568067,
          0.0378482454142504,
          0.0377444919782195,
          0.0380403141246086,
          0.0381063368984896,
          0.0380675994989466,
          0.0381080044659673,
          0.0382886616298265,
          0.0384722762375687,
          0.0385835159483808,
          0.0384573810728657,
          0.0371018505445114,
          0.0386693085454526,
          0.0388630843311884,
          0.0388961268036087,
          0.039195207584803,
          0.0393845029874281,
          0.0394385141124409,
          0.0379246120011251,
          0.0394944255692148,
          0.0395660541796789,
          0.0394472495538042,
          0.039357848313138,
          0.0394843006987004,
          0.0393867407734607,
          0.0392512383766403,
          0.0391964961801395,
          0.0390267665763228,
          0.0389240729509006,
          0.0389545010408258,
          0.038888276675992,
          0.0390238440973305,
          0.0386726187238209,
          0.0386704504856724,
          0.0384211683439359,
          0.0384197030406416,
          0.0386187375020267,
          0.0373970134190178,
          0.0386824197243784,
          0.0387647916893881,
          0.0387233010206348,
          0.0388118929370416,
          0.0388508415554266,
          0.0388561646420325,
          0.0391069679686599,
          0.0391364465731554,
          0.039234191102427
         ],
         "yaxis": "y"
        },
        {
         "hovertemplate": "variable=Combined<br>Time=%{x}<br>value=%{y}<extra></extra>",
         "legendgroup": "Combined",
         "line": {
          "color": "#FF97FF",
          "dash": "solid"
         },
         "marker": {
          "symbol": "circle"
         },
         "mode": "lines",
         "name": "Combined",
         "orientation": "v",
         "showlegend": true,
         "type": "scatter",
         "x": [
          "0:00:00",
          "0:00:15",
          "0:00:30",
          "0:00:45",
          "0:01:00",
          "0:01:15",
          "0:01:30",
          "0:01:45",
          "0:02:00",
          "0:02:15",
          "0:02:30",
          "0:02:45",
          "0:03:00",
          "0:03:15",
          "0:03:30",
          "0:03:45",
          "0:04:00",
          "0:04:15",
          "0:04:30",
          "0:04:45",
          "0:05:00",
          "0:05:15",
          "0:05:30",
          "0:05:45",
          "0:06:00",
          "0:06:15",
          "0:06:30",
          "0:06:45",
          "0:07:00",
          "0:07:15",
          "0:07:30",
          "0:07:45",
          "0:08:00",
          "0:08:15",
          "0:08:30",
          "0:08:45",
          "0:09:00",
          "0:09:15",
          "0:09:30",
          "0:09:45",
          "0:10:00",
          "0:10:15",
          "0:10:30",
          "0:10:45",
          "0:11:00",
          "0:11:15",
          "0:11:30",
          "0:11:45",
          "0:12:00",
          "0:12:15",
          "0:12:30",
          "0:12:45",
          "0:13:00",
          "0:13:15",
          "0:13:30",
          "0:13:45",
          "0:14:00",
          "0:14:15",
          "0:14:30",
          "0:14:45",
          "0:15:00"
         ],
         "xaxis": "x",
         "y": [
          41.07590648758924,
          40.874390166807075,
          41.02544448000203,
          40.96170366629068,
          41.76308290431537,
          41.97372801323898,
          40.73260844080749,
          40.90891019087443,
          41.27055925849867,
          40.486790438565926,
          41.749262419497896,
          40.828208939551864,
          41.39308061176287,
          41.42713819376762,
          41.267486576326256,
          40.65876121281026,
          40.520111784856034,
          40.70045725084659,
          41.02006111278935,
          40.68755817773408,
          40.511502772366185,
          40.47250738656128,
          40.697435828267544,
          40.868053150678634,
          40.49709116506514,
          41.38870423682199,
          40.737902221441026,
          40.99848674685005,
          40.785752842224426,
          40.412567536651395,
          41.529245769872716,
          40.33071512323701,
          40.59889299452749,
          40.22716679689253,
          41.2265422093304,
          40.61840193383934,
          40.997957551182076,
          41.083119785894,
          41.22080760342606,
          40.10386200132578,
          41.17689277369298,
          41.59922283647065,
          40.83792707152745,
          41.092759505342606,
          40.855588884960056,
          41.491539388978055,
          40.43639435965971,
          41.24189553400368,
          41.52934477391482,
          40.74228758790769,
          40.715716019771165,
          40.83196734012223,
          41.11660029201775,
          40.52478301306055,
          41.228144008040765,
          40.4743681004926,
          40.519813652185974,
          40.483289645569414,
          41.3127178966465,
          40.71050618094958,
          40.17059668268625
         ],
         "yaxis": "y"
        }
       ],
       "layout": {
        "legend": {
         "title": {
          "text": "variable"
         },
         "tracegroupgap": 0
        },
        "template": {
         "data": {
          "bar": [
           {
            "error_x": {
             "color": "#2a3f5f"
            },
            "error_y": {
             "color": "#2a3f5f"
            },
            "marker": {
             "line": {
              "color": "#E5ECF6",
              "width": 0.5
             },
             "pattern": {
              "fillmode": "overlay",
              "size": 10,
              "solidity": 0.2
             }
            },
            "type": "bar"
           }
          ],
          "barpolar": [
           {
            "marker": {
             "line": {
              "color": "#E5ECF6",
              "width": 0.5
             },
             "pattern": {
              "fillmode": "overlay",
              "size": 10,
              "solidity": 0.2
             }
            },
            "type": "barpolar"
           }
          ],
          "carpet": [
           {
            "aaxis": {
             "endlinecolor": "#2a3f5f",
             "gridcolor": "white",
             "linecolor": "white",
             "minorgridcolor": "white",
             "startlinecolor": "#2a3f5f"
            },
            "baxis": {
             "endlinecolor": "#2a3f5f",
             "gridcolor": "white",
             "linecolor": "white",
             "minorgridcolor": "white",
             "startlinecolor": "#2a3f5f"
            },
            "type": "carpet"
           }
          ],
          "choropleth": [
           {
            "colorbar": {
             "outlinewidth": 0,
             "ticks": ""
            },
            "type": "choropleth"
           }
          ],
          "contour": [
           {
            "colorbar": {
             "outlinewidth": 0,
             "ticks": ""
            },
            "colorscale": [
             [
              0,
              "#0d0887"
             ],
             [
              0.1111111111111111,
              "#46039f"
             ],
             [
              0.2222222222222222,
              "#7201a8"
             ],
             [
              0.3333333333333333,
              "#9c179e"
             ],
             [
              0.4444444444444444,
              "#bd3786"
             ],
             [
              0.5555555555555556,
              "#d8576b"
             ],
             [
              0.6666666666666666,
              "#ed7953"
             ],
             [
              0.7777777777777778,
              "#fb9f3a"
             ],
             [
              0.8888888888888888,
              "#fdca26"
             ],
             [
              1,
              "#f0f921"
             ]
            ],
            "type": "contour"
           }
          ],
          "contourcarpet": [
           {
            "colorbar": {
             "outlinewidth": 0,
             "ticks": ""
            },
            "type": "contourcarpet"
           }
          ],
          "heatmap": [
           {
            "colorbar": {
             "outlinewidth": 0,
             "ticks": ""
            },
            "colorscale": [
             [
              0,
              "#0d0887"
             ],
             [
              0.1111111111111111,
              "#46039f"
             ],
             [
              0.2222222222222222,
              "#7201a8"
             ],
             [
              0.3333333333333333,
              "#9c179e"
             ],
             [
              0.4444444444444444,
              "#bd3786"
             ],
             [
              0.5555555555555556,
              "#d8576b"
             ],
             [
              0.6666666666666666,
              "#ed7953"
             ],
             [
              0.7777777777777778,
              "#fb9f3a"
             ],
             [
              0.8888888888888888,
              "#fdca26"
             ],
             [
              1,
              "#f0f921"
             ]
            ],
            "type": "heatmap"
           }
          ],
          "heatmapgl": [
           {
            "colorbar": {
             "outlinewidth": 0,
             "ticks": ""
            },
            "colorscale": [
             [
              0,
              "#0d0887"
             ],
             [
              0.1111111111111111,
              "#46039f"
             ],
             [
              0.2222222222222222,
              "#7201a8"
             ],
             [
              0.3333333333333333,
              "#9c179e"
             ],
             [
              0.4444444444444444,
              "#bd3786"
             ],
             [
              0.5555555555555556,
              "#d8576b"
             ],
             [
              0.6666666666666666,
              "#ed7953"
             ],
             [
              0.7777777777777778,
              "#fb9f3a"
             ],
             [
              0.8888888888888888,
              "#fdca26"
             ],
             [
              1,
              "#f0f921"
             ]
            ],
            "type": "heatmapgl"
           }
          ],
          "histogram": [
           {
            "marker": {
             "pattern": {
              "fillmode": "overlay",
              "size": 10,
              "solidity": 0.2
             }
            },
            "type": "histogram"
           }
          ],
          "histogram2d": [
           {
            "colorbar": {
             "outlinewidth": 0,
             "ticks": ""
            },
            "colorscale": [
             [
              0,
              "#0d0887"
             ],
             [
              0.1111111111111111,
              "#46039f"
             ],
             [
              0.2222222222222222,
              "#7201a8"
             ],
             [
              0.3333333333333333,
              "#9c179e"
             ],
             [
              0.4444444444444444,
              "#bd3786"
             ],
             [
              0.5555555555555556,
              "#d8576b"
             ],
             [
              0.6666666666666666,
              "#ed7953"
             ],
             [
              0.7777777777777778,
              "#fb9f3a"
             ],
             [
              0.8888888888888888,
              "#fdca26"
             ],
             [
              1,
              "#f0f921"
             ]
            ],
            "type": "histogram2d"
           }
          ],
          "histogram2dcontour": [
           {
            "colorbar": {
             "outlinewidth": 0,
             "ticks": ""
            },
            "colorscale": [
             [
              0,
              "#0d0887"
             ],
             [
              0.1111111111111111,
              "#46039f"
             ],
             [
              0.2222222222222222,
              "#7201a8"
             ],
             [
              0.3333333333333333,
              "#9c179e"
             ],
             [
              0.4444444444444444,
              "#bd3786"
             ],
             [
              0.5555555555555556,
              "#d8576b"
             ],
             [
              0.6666666666666666,
              "#ed7953"
             ],
             [
              0.7777777777777778,
              "#fb9f3a"
             ],
             [
              0.8888888888888888,
              "#fdca26"
             ],
             [
              1,
              "#f0f921"
             ]
            ],
            "type": "histogram2dcontour"
           }
          ],
          "mesh3d": [
           {
            "colorbar": {
             "outlinewidth": 0,
             "ticks": ""
            },
            "type": "mesh3d"
           }
          ],
          "parcoords": [
           {
            "line": {
             "colorbar": {
              "outlinewidth": 0,
              "ticks": ""
             }
            },
            "type": "parcoords"
           }
          ],
          "pie": [
           {
            "automargin": true,
            "type": "pie"
           }
          ],
          "scatter": [
           {
            "fillpattern": {
             "fillmode": "overlay",
             "size": 10,
             "solidity": 0.2
            },
            "type": "scatter"
           }
          ],
          "scatter3d": [
           {
            "line": {
             "colorbar": {
              "outlinewidth": 0,
              "ticks": ""
             }
            },
            "marker": {
             "colorbar": {
              "outlinewidth": 0,
              "ticks": ""
             }
            },
            "type": "scatter3d"
           }
          ],
          "scattercarpet": [
           {
            "marker": {
             "colorbar": {
              "outlinewidth": 0,
              "ticks": ""
             }
            },
            "type": "scattercarpet"
           }
          ],
          "scattergeo": [
           {
            "marker": {
             "colorbar": {
              "outlinewidth": 0,
              "ticks": ""
             }
            },
            "type": "scattergeo"
           }
          ],
          "scattergl": [
           {
            "marker": {
             "colorbar": {
              "outlinewidth": 0,
              "ticks": ""
             }
            },
            "type": "scattergl"
           }
          ],
          "scattermapbox": [
           {
            "marker": {
             "colorbar": {
              "outlinewidth": 0,
              "ticks": ""
             }
            },
            "type": "scattermapbox"
           }
          ],
          "scatterpolar": [
           {
            "marker": {
             "colorbar": {
              "outlinewidth": 0,
              "ticks": ""
             }
            },
            "type": "scatterpolar"
           }
          ],
          "scatterpolargl": [
           {
            "marker": {
             "colorbar": {
              "outlinewidth": 0,
              "ticks": ""
             }
            },
            "type": "scatterpolargl"
           }
          ],
          "scatterternary": [
           {
            "marker": {
             "colorbar": {
              "outlinewidth": 0,
              "ticks": ""
             }
            },
            "type": "scatterternary"
           }
          ],
          "surface": [
           {
            "colorbar": {
             "outlinewidth": 0,
             "ticks": ""
            },
            "colorscale": [
             [
              0,
              "#0d0887"
             ],
             [
              0.1111111111111111,
              "#46039f"
             ],
             [
              0.2222222222222222,
              "#7201a8"
             ],
             [
              0.3333333333333333,
              "#9c179e"
             ],
             [
              0.4444444444444444,
              "#bd3786"
             ],
             [
              0.5555555555555556,
              "#d8576b"
             ],
             [
              0.6666666666666666,
              "#ed7953"
             ],
             [
              0.7777777777777778,
              "#fb9f3a"
             ],
             [
              0.8888888888888888,
              "#fdca26"
             ],
             [
              1,
              "#f0f921"
             ]
            ],
            "type": "surface"
           }
          ],
          "table": [
           {
            "cells": {
             "fill": {
              "color": "#EBF0F8"
             },
             "line": {
              "color": "white"
             }
            },
            "header": {
             "fill": {
              "color": "#C8D4E3"
             },
             "line": {
              "color": "white"
             }
            },
            "type": "table"
           }
          ]
         },
         "layout": {
          "annotationdefaults": {
           "arrowcolor": "#2a3f5f",
           "arrowhead": 0,
           "arrowwidth": 1
          },
          "autotypenumbers": "strict",
          "coloraxis": {
           "colorbar": {
            "outlinewidth": 0,
            "ticks": ""
           }
          },
          "colorscale": {
           "diverging": [
            [
             0,
             "#8e0152"
            ],
            [
             0.1,
             "#c51b7d"
            ],
            [
             0.2,
             "#de77ae"
            ],
            [
             0.3,
             "#f1b6da"
            ],
            [
             0.4,
             "#fde0ef"
            ],
            [
             0.5,
             "#f7f7f7"
            ],
            [
             0.6,
             "#e6f5d0"
            ],
            [
             0.7,
             "#b8e186"
            ],
            [
             0.8,
             "#7fbc41"
            ],
            [
             0.9,
             "#4d9221"
            ],
            [
             1,
             "#276419"
            ]
           ],
           "sequential": [
            [
             0,
             "#0d0887"
            ],
            [
             0.1111111111111111,
             "#46039f"
            ],
            [
             0.2222222222222222,
             "#7201a8"
            ],
            [
             0.3333333333333333,
             "#9c179e"
            ],
            [
             0.4444444444444444,
             "#bd3786"
            ],
            [
             0.5555555555555556,
             "#d8576b"
            ],
            [
             0.6666666666666666,
             "#ed7953"
            ],
            [
             0.7777777777777778,
             "#fb9f3a"
            ],
            [
             0.8888888888888888,
             "#fdca26"
            ],
            [
             1,
             "#f0f921"
            ]
           ],
           "sequentialminus": [
            [
             0,
             "#0d0887"
            ],
            [
             0.1111111111111111,
             "#46039f"
            ],
            [
             0.2222222222222222,
             "#7201a8"
            ],
            [
             0.3333333333333333,
             "#9c179e"
            ],
            [
             0.4444444444444444,
             "#bd3786"
            ],
            [
             0.5555555555555556,
             "#d8576b"
            ],
            [
             0.6666666666666666,
             "#ed7953"
            ],
            [
             0.7777777777777778,
             "#fb9f3a"
            ],
            [
             0.8888888888888888,
             "#fdca26"
            ],
            [
             1,
             "#f0f921"
            ]
           ]
          },
          "colorway": [
           "#636efa",
           "#EF553B",
           "#00cc96",
           "#ab63fa",
           "#FFA15A",
           "#19d3f3",
           "#FF6692",
           "#B6E880",
           "#FF97FF",
           "#FECB52"
          ],
          "font": {
           "color": "#2a3f5f"
          },
          "geo": {
           "bgcolor": "white",
           "lakecolor": "white",
           "landcolor": "#E5ECF6",
           "showlakes": true,
           "showland": true,
           "subunitcolor": "white"
          },
          "hoverlabel": {
           "align": "left"
          },
          "hovermode": "closest",
          "mapbox": {
           "style": "light"
          },
          "paper_bgcolor": "white",
          "plot_bgcolor": "#E5ECF6",
          "polar": {
           "angularaxis": {
            "gridcolor": "white",
            "linecolor": "white",
            "ticks": ""
           },
           "bgcolor": "#E5ECF6",
           "radialaxis": {
            "gridcolor": "white",
            "linecolor": "white",
            "ticks": ""
           }
          },
          "scene": {
           "xaxis": {
            "backgroundcolor": "#E5ECF6",
            "gridcolor": "white",
            "gridwidth": 2,
            "linecolor": "white",
            "showbackground": true,
            "ticks": "",
            "zerolinecolor": "white"
           },
           "yaxis": {
            "backgroundcolor": "#E5ECF6",
            "gridcolor": "white",
            "gridwidth": 2,
            "linecolor": "white",
            "showbackground": true,
            "ticks": "",
            "zerolinecolor": "white"
           },
           "zaxis": {
            "backgroundcolor": "#E5ECF6",
            "gridcolor": "white",
            "gridwidth": 2,
            "linecolor": "white",
            "showbackground": true,
            "ticks": "",
            "zerolinecolor": "white"
           }
          },
          "shapedefaults": {
           "line": {
            "color": "#2a3f5f"
           }
          },
          "ternary": {
           "aaxis": {
            "gridcolor": "white",
            "linecolor": "white",
            "ticks": ""
           },
           "baxis": {
            "gridcolor": "white",
            "linecolor": "white",
            "ticks": ""
           },
           "bgcolor": "#E5ECF6",
           "caxis": {
            "gridcolor": "white",
            "linecolor": "white",
            "ticks": ""
           }
          },
          "title": {
           "x": 0.05
          },
          "xaxis": {
           "automargin": true,
           "gridcolor": "white",
           "linecolor": "white",
           "ticks": "",
           "title": {
            "standoff": 15
           },
           "zerolinecolor": "white",
           "zerolinewidth": 2
          },
          "yaxis": {
           "automargin": true,
           "gridcolor": "white",
           "linecolor": "white",
           "ticks": "",
           "title": {
            "standoff": 15
           },
           "zerolinecolor": "white",
           "zerolinewidth": 2
          }
         }
        },
        "title": {
         "text": "CPU Usage %"
        },
        "xaxis": {
         "anchor": "y",
         "domain": [
          0,
          1
         ],
         "title": {
          "text": "Time"
         }
        },
        "yaxis": {
         "anchor": "x",
         "domain": [
          0,
          1
         ],
         "title": {
          "text": "value"
         }
        }
       }
      }
     },
     "metadata": {},
     "output_type": "display_data"
    }
   ],
   "source": [
    "# Plot using matplotlib\n",
    "plt.figure(figsize=(15, 5))\n",
    "plt.plot(light_cpu.index, light_cpu)\n",
    "plt.xlabel('Time')\n",
    "plt.xticks(rotation=90)\n",
    "plt.ylabel('Value')\n",
    "plt.title('CPU Usage %')\n",
    "plt.legend(light_cpu.keys(), bbox_to_anchor=(1.01, 1), loc=\"upper left\")\n",
    "plt.show()\n",
    "\n",
    "# Plot using plotly\n",
    "fig = px.line(light_cpu, x=light_cpu.index, y=light_cpu.keys(), title='CPU Usage %')\n",
    "fig.show()\n"
   ]
  },
  {
   "cell_type": "markdown",
   "metadata": {},
   "source": [
    "### Memory"
   ]
  },
  {
   "cell_type": "code",
   "execution_count": 5,
   "metadata": {},
   "outputs": [
    {
     "data": {
      "text/html": [
       "<div>\n",
       "<style scoped>\n",
       "    .dataframe tbody tr th:only-of-type {\n",
       "        vertical-align: middle;\n",
       "    }\n",
       "\n",
       "    .dataframe tbody tr th {\n",
       "        vertical-align: top;\n",
       "    }\n",
       "\n",
       "    .dataframe thead th {\n",
       "        text-align: right;\n",
       "    }\n",
       "</style>\n",
       "<table border=\"1\" class=\"dataframe\">\n",
       "  <thead>\n",
       "    <tr style=\"text-align: right;\">\n",
       "      <th></th>\n",
       "      <th>ot-ditto-connectivity-7b564988f7-kbvbr</th>\n",
       "      <th>ot-ditto-gateway-5b9f6dc596-p47k2</th>\n",
       "      <th>ot-ditto-mongodb-669768b5b4-kw98h</th>\n",
       "      <th>ot-ditto-nginx-d4bb498fc-9wjlb</th>\n",
       "      <th>ot-ditto-policies-575d5579db-pl9dm</th>\n",
       "      <th>ot-ditto-things-588dd96f9-lrw9k</th>\n",
       "      <th>ot-ditto-thingssearch-c9559c6d-dbvf9</th>\n",
       "      <th>ot-mosquitto-5f7bdff747-rtf8v</th>\n",
       "      <th>Combined</th>\n",
       "    </tr>\n",
       "    <tr>\n",
       "      <th>Time</th>\n",
       "      <th></th>\n",
       "      <th></th>\n",
       "      <th></th>\n",
       "      <th></th>\n",
       "      <th></th>\n",
       "      <th></th>\n",
       "      <th></th>\n",
       "      <th></th>\n",
       "      <th></th>\n",
       "    </tr>\n",
       "  </thead>\n",
       "  <tbody>\n",
       "    <tr>\n",
       "      <th>0:00:00</th>\n",
       "      <td>519.122944</td>\n",
       "      <td>448.483328</td>\n",
       "      <td>422.526976</td>\n",
       "      <td>5.55008</td>\n",
       "      <td>458.539008</td>\n",
       "      <td>483.282944</td>\n",
       "      <td>451.760128</td>\n",
       "      <td>1.196032</td>\n",
       "      <td>2790.461440</td>\n",
       "    </tr>\n",
       "    <tr>\n",
       "      <th>0:00:15</th>\n",
       "      <td>519.086080</td>\n",
       "      <td>448.245760</td>\n",
       "      <td>422.453248</td>\n",
       "      <td>5.55008</td>\n",
       "      <td>458.670080</td>\n",
       "      <td>483.348480</td>\n",
       "      <td>451.911680</td>\n",
       "      <td>1.064960</td>\n",
       "      <td>2790.330368</td>\n",
       "    </tr>\n",
       "    <tr>\n",
       "      <th>0:00:30</th>\n",
       "      <td>519.020544</td>\n",
       "      <td>448.364544</td>\n",
       "      <td>423.555072</td>\n",
       "      <td>5.55008</td>\n",
       "      <td>458.919936</td>\n",
       "      <td>483.274752</td>\n",
       "      <td>451.780608</td>\n",
       "      <td>1.064960</td>\n",
       "      <td>2791.530496</td>\n",
       "    </tr>\n",
       "    <tr>\n",
       "      <th>0:00:45</th>\n",
       "      <td>518.606848</td>\n",
       "      <td>448.364544</td>\n",
       "      <td>422.494208</td>\n",
       "      <td>5.55008</td>\n",
       "      <td>458.764288</td>\n",
       "      <td>483.045376</td>\n",
       "      <td>451.739648</td>\n",
       "      <td>1.064960</td>\n",
       "      <td>2789.629952</td>\n",
       "    </tr>\n",
       "    <tr>\n",
       "      <th>0:01:00</th>\n",
       "      <td>519.360512</td>\n",
       "      <td>448.266240</td>\n",
       "      <td>422.658048</td>\n",
       "      <td>5.55008</td>\n",
       "      <td>458.665984</td>\n",
       "      <td>483.053568</td>\n",
       "      <td>451.739648</td>\n",
       "      <td>1.064960</td>\n",
       "      <td>2790.359040</td>\n",
       "    </tr>\n",
       "  </tbody>\n",
       "</table>\n",
       "</div>"
      ],
      "text/plain": [
       "         ot-ditto-connectivity-7b564988f7-kbvbr  \\\n",
       "Time                                              \n",
       "0:00:00                              519.122944   \n",
       "0:00:15                              519.086080   \n",
       "0:00:30                              519.020544   \n",
       "0:00:45                              518.606848   \n",
       "0:01:00                              519.360512   \n",
       "\n",
       "         ot-ditto-gateway-5b9f6dc596-p47k2  ot-ditto-mongodb-669768b5b4-kw98h  \\\n",
       "Time                                                                            \n",
       "0:00:00                         448.483328                         422.526976   \n",
       "0:00:15                         448.245760                         422.453248   \n",
       "0:00:30                         448.364544                         423.555072   \n",
       "0:00:45                         448.364544                         422.494208   \n",
       "0:01:00                         448.266240                         422.658048   \n",
       "\n",
       "         ot-ditto-nginx-d4bb498fc-9wjlb  ot-ditto-policies-575d5579db-pl9dm  \\\n",
       "Time                                                                          \n",
       "0:00:00                         5.55008                          458.539008   \n",
       "0:00:15                         5.55008                          458.670080   \n",
       "0:00:30                         5.55008                          458.919936   \n",
       "0:00:45                         5.55008                          458.764288   \n",
       "0:01:00                         5.55008                          458.665984   \n",
       "\n",
       "         ot-ditto-things-588dd96f9-lrw9k  \\\n",
       "Time                                       \n",
       "0:00:00                       483.282944   \n",
       "0:00:15                       483.348480   \n",
       "0:00:30                       483.274752   \n",
       "0:00:45                       483.045376   \n",
       "0:01:00                       483.053568   \n",
       "\n",
       "         ot-ditto-thingssearch-c9559c6d-dbvf9  ot-mosquitto-5f7bdff747-rtf8v  \\\n",
       "Time                                                                           \n",
       "0:00:00                            451.760128                       1.196032   \n",
       "0:00:15                            451.911680                       1.064960   \n",
       "0:00:30                            451.780608                       1.064960   \n",
       "0:00:45                            451.739648                       1.064960   \n",
       "0:01:00                            451.739648                       1.064960   \n",
       "\n",
       "            Combined  \n",
       "Time                  \n",
       "0:00:00  2790.461440  \n",
       "0:00:15  2790.330368  \n",
       "0:00:30  2791.530496  \n",
       "0:00:45  2789.629952  \n",
       "0:01:00  2790.359040  "
      ]
     },
     "execution_count": 5,
     "metadata": {},
     "output_type": "execute_result"
    }
   ],
   "source": [
    "light_mem.head()"
   ]
  },
  {
   "cell_type": "code",
   "execution_count": 6,
   "metadata": {},
   "outputs": [
    {
     "data": {
      "image/png": "[encoded data removed]",
      "text/plain": [
       "<Figure size 1500x500 with 1 Axes>"
      ]
     },
     "metadata": {},
     "output_type": "display_data"
    },
    {
     "data": {
      "application/vnd.plotly.v1+json": {
       "config": {
        "plotlyServerURL": "https://plot.ly"
       },
       "data": [
        {
         "hovertemplate": "variable=ot-ditto-connectivity-7b564988f7-kbvbr<br>Time=%{x}<br>value=%{y}<extra></extra>",
         "legendgroup": "ot-ditto-connectivity-7b564988f7-kbvbr",
         "line": {
          "color": "#636efa",
          "dash": "solid"
         },
         "marker": {
          "symbol": "circle"
         },
         "mode": "lines",
         "name": "ot-ditto-connectivity-7b564988f7-kbvbr",
         "orientation": "v",
         "showlegend": true,
         "type": "scatter",
         "x": [
          "0:00:00",
          "0:00:15",
          "0:00:30",
          "0:00:45",
          "0:01:00",
          "0:01:15",
          "0:01:30",
          "0:01:45",
          "0:02:00",
          "0:02:15",
          "0:02:30",
          "0:02:45",
          "0:03:00",
          "0:03:15",
          "0:03:30",
          "0:03:45",
          "0:04:00",
          "0:04:15",
          "0:04:30",
          "0:04:45",
          "0:05:00",
          "0:05:15",
          "0:05:30",
          "0:05:45",
          "0:06:00",
          "0:06:15",
          "0:06:30",
          "0:06:45",
          "0:07:00",
          "0:07:15",
          "0:07:30",
          "0:07:45",
          "0:08:00",
          "0:08:15",
          "0:08:30",
          "0:08:45",
          "0:09:00",
          "0:09:15",
          "0:09:30",
          "0:09:45",
          "0:10:00",
          "0:10:15",
          "0:10:30",
          "0:10:45",
          "0:11:00",
          "0:11:15",
          "0:11:30",
          "0:11:45",
          "0:12:00",
          "0:12:15",
          "0:12:30",
          "0:12:45",
          "0:13:00",
          "0:13:15",
          "0:13:30",
          "0:13:45",
          "0:14:00",
          "0:14:15",
          "0:14:30",
          "0:14:45",
          "0:15:00"
         ],
         "xaxis": "x",
         "y": [
          519.122944,
          519.08608,
          519.020544,
          518.606848,
          519.360512,
          518.598656,
          519.204864,
          518.852608,
          519.00416,
          518.643712,
          519.192576,
          518.995968,
          518.627328,
          518.852608,
          518.721536,
          518.979584,
          518.885376,
          518.455296,
          518.852608,
          518.742016,
          519.176192,
          518.9632,
          518.852608,
          519.12704,
          518.864896,
          518.602752,
          518.631424,
          518.721536,
          519.446528,
          518.803456,
          518.909952,
          519.18848,
          519.10656,
          519.45472,
          519.077888,
          518.852608,
          518.979584,
          519.032832,
          518.701056,
          518.631424,
          518.488064,
          518.488064,
          518.627328,
          518.754304,
          519.041024,
          519.008256,
          518.909952,
          518.766592,
          518.88128,
          519.057408,
          518.750208,
          519.008256,
          519.008256,
          519.028736,
          518.754304,
          518.987776,
          518.619136,
          519.282688,
          518.733824,
          518.897664,
          519.651328
         ],
         "yaxis": "y"
        },
        {
         "hovertemplate": "variable=ot-ditto-gateway-5b9f6dc596-p47k2<br>Time=%{x}<br>value=%{y}<extra></extra>",
         "legendgroup": "ot-ditto-gateway-5b9f6dc596-p47k2",
         "line": {
          "color": "#EF553B",
          "dash": "solid"
         },
         "marker": {
          "symbol": "circle"
         },
         "mode": "lines",
         "name": "ot-ditto-gateway-5b9f6dc596-p47k2",
         "orientation": "v",
         "showlegend": true,
         "type": "scatter",
         "x": [
          "0:00:00",
          "0:00:15",
          "0:00:30",
          "0:00:45",
          "0:01:00",
          "0:01:15",
          "0:01:30",
          "0:01:45",
          "0:02:00",
          "0:02:15",
          "0:02:30",
          "0:02:45",
          "0:03:00",
          "0:03:15",
          "0:03:30",
          "0:03:45",
          "0:04:00",
          "0:04:15",
          "0:04:30",
          "0:04:45",
          "0:05:00",
          "0:05:15",
          "0:05:30",
          "0:05:45",
          "0:06:00",
          "0:06:15",
          "0:06:30",
          "0:06:45",
          "0:07:00",
          "0:07:15",
          "0:07:30",
          "0:07:45",
          "0:08:00",
          "0:08:15",
          "0:08:30",
          "0:08:45",
          "0:09:00",
          "0:09:15",
          "0:09:30",
          "0:09:45",
          "0:10:00",
          "0:10:15",
          "0:10:30",
          "0:10:45",
          "0:11:00",
          "0:11:15",
          "0:11:30",
          "0:11:45",
          "0:12:00",
          "0:12:15",
          "0:12:30",
          "0:12:45",
          "0:13:00",
          "0:13:15",
          "0:13:30",
          "0:13:45",
          "0:14:00",
          "0:14:15",
          "0:14:30",
          "0:14:45",
          "0:15:00"
         ],
         "xaxis": "x",
         "y": [
          448.483328,
          448.24576,
          448.364544,
          448.364544,
          448.26624,
          448.630784,
          448.753664,
          448.512,
          448.528384,
          448.47104,
          448.512,
          448.479232,
          448.299008,
          448.299008,
          448.503808,
          448.729088,
          448.638976,
          448.671744,
          448.22528,
          448.22528,
          448.360448,
          448.393216,
          448.999424,
          448.487424,
          448.487424,
          448.643072,
          448.36864,
          448.626688,
          448.110592,
          448.344064,
          448.729088,
          448.352256,
          448.24576,
          448.512,
          448.520192,
          448.49152,
          448.577536,
          448.299008,
          448.360448,
          448.507904,
          448.63488,
          448.49152,
          448.274432,
          448.688128,
          448.528384,
          448.479232,
          448.495616,
          448.249856,
          448.671744,
          448.360448,
          448.745472,
          448.249856,
          448.77824,
          448.835584,
          449.00352,
          448.741376,
          448.380928,
          448.499712,
          448.499712,
          448.253952,
          448.114688
         ],
         "yaxis": "y"
        },
        {
         "hovertemplate": "variable=ot-ditto-mongodb-669768b5b4-kw98h<br>Time=%{x}<br>value=%{y}<extra></extra>",
         "legendgroup": "ot-ditto-mongodb-669768b5b4-kw98h",
         "line": {
          "color": "#00cc96",
          "dash": "solid"
         },
         "marker": {
          "symbol": "circle"
         },
         "mode": "lines",
         "name": "ot-ditto-mongodb-669768b5b4-kw98h",
         "orientation": "v",
         "showlegend": true,
         "type": "scatter",
         "x": [
          "0:00:00",
          "0:00:15",
          "0:00:30",
          "0:00:45",
          "0:01:00",
          "0:01:15",
          "0:01:30",
          "0:01:45",
          "0:02:00",
          "0:02:15",
          "0:02:30",
          "0:02:45",
          "0:03:00",
          "0:03:15",
          "0:03:30",
          "0:03:45",
          "0:04:00",
          "0:04:15",
          "0:04:30",
          "0:04:45",
          "0:05:00",
          "0:05:15",
          "0:05:30",
          "0:05:45",
          "0:06:00",
          "0:06:15",
          "0:06:30",
          "0:06:45",
          "0:07:00",
          "0:07:15",
          "0:07:30",
          "0:07:45",
          "0:08:00",
          "0:08:15",
          "0:08:30",
          "0:08:45",
          "0:09:00",
          "0:09:15",
          "0:09:30",
          "0:09:45",
          "0:10:00",
          "0:10:15",
          "0:10:30",
          "0:10:45",
          "0:11:00",
          "0:11:15",
          "0:11:30",
          "0:11:45",
          "0:12:00",
          "0:12:15",
          "0:12:30",
          "0:12:45",
          "0:13:00",
          "0:13:15",
          "0:13:30",
          "0:13:45",
          "0:14:00",
          "0:14:15",
          "0:14:30",
          "0:14:45",
          "0:15:00"
         ],
         "xaxis": "x",
         "y": [
          422.526976,
          422.453248,
          423.555072,
          422.494208,
          422.658048,
          422.858752,
          422.449152,
          423.071744,
          423.653376,
          422.739968,
          559.099904,
          423.3216,
          424.18176,
          423.944192,
          423.272448,
          590.680064,
          422.6048,
          423.063552,
          423.964672,
          423.059456,
          423.378944,
          602.394624,
          590.934016,
          423.718912,
          423.202816,
          603.316224,
          423.538688,
          542.49472,
          423.15776,
          593.956864,
          424.329216,
          424.439808,
          424.230912,
          423.718912,
          423.538688,
          424.337408,
          424.792064,
          424.800256,
          424.460288,
          783.220736,
          425.058304,
          770.318336,
          423.960576,
          424.394752,
          623.0016,
          602.97216,
          424.747008,
          424.173568,
          424.460288,
          424.16128,
          580.206592,
          424.624128,
          424.144896,
          424.144896,
          424.255488,
          425.377792,
          748.711936,
          425.455616,
          424.443904,
          424.972288,
          424.48896
         ],
         "yaxis": "y"
        },
        {
         "hovertemplate": "variable=ot-ditto-nginx-d4bb498fc-9wjlb<br>Time=%{x}<br>value=%{y}<extra></extra>",
         "legendgroup": "ot-ditto-nginx-d4bb498fc-9wjlb",
         "line": {
          "color": "#ab63fa",
          "dash": "solid"
         },
         "marker": {
          "symbol": "circle"
         },
         "mode": "lines",
         "name": "ot-ditto-nginx-d4bb498fc-9wjlb",
         "orientation": "v",
         "showlegend": true,
         "type": "scatter",
         "x": [
          "0:00:00",
          "0:00:15",
          "0:00:30",
          "0:00:45",
          "0:01:00",
          "0:01:15",
          "0:01:30",
          "0:01:45",
          "0:02:00",
          "0:02:15",
          "0:02:30",
          "0:02:45",
          "0:03:00",
          "0:03:15",
          "0:03:30",
          "0:03:45",
          "0:04:00",
          "0:04:15",
          "0:04:30",
          "0:04:45",
          "0:05:00",
          "0:05:15",
          "0:05:30",
          "0:05:45",
          "0:06:00",
          "0:06:15",
          "0:06:30",
          "0:06:45",
          "0:07:00",
          "0:07:15",
          "0:07:30",
          "0:07:45",
          "0:08:00",
          "0:08:15",
          "0:08:30",
          "0:08:45",
          "0:09:00",
          "0:09:15",
          "0:09:30",
          "0:09:45",
          "0:10:00",
          "0:10:15",
          "0:10:30",
          "0:10:45",
          "0:11:00",
          "0:11:15",
          "0:11:30",
          "0:11:45",
          "0:12:00",
          "0:12:15",
          "0:12:30",
          "0:12:45",
          "0:13:00",
          "0:13:15",
          "0:13:30",
          "0:13:45",
          "0:14:00",
          "0:14:15",
          "0:14:30",
          "0:14:45",
          "0:15:00"
         ],
         "xaxis": "x",
         "y": [
          5.55008,
          5.55008,
          5.55008,
          5.55008,
          5.55008,
          5.55008,
          5.55008,
          5.55008,
          5.55008,
          5.55008,
          5.55008,
          5.55008,
          5.55008,
          5.55008,
          5.55008,
          5.55008,
          5.55008,
          5.55008,
          5.55008,
          5.55008,
          5.55008,
          5.55008,
          5.55008,
          5.55008,
          5.55008,
          5.55008,
          5.55008,
          5.55008,
          5.55008,
          5.55008,
          5.55008,
          5.55008,
          5.55008,
          5.55008,
          5.55008,
          5.55008,
          5.55008,
          5.55008,
          5.55008,
          5.55008,
          5.55008,
          5.55008,
          5.55008,
          5.55008,
          5.55008,
          5.55008,
          5.55008,
          5.55008,
          5.55008,
          5.55008,
          5.55008,
          5.55008,
          5.55008,
          5.55008,
          5.55008,
          5.55008,
          5.55008,
          5.55008,
          5.55008,
          5.55008,
          5.55008
         ],
         "yaxis": "y"
        },
        {
         "hovertemplate": "variable=ot-ditto-policies-575d5579db-pl9dm<br>Time=%{x}<br>value=%{y}<extra></extra>",
         "legendgroup": "ot-ditto-policies-575d5579db-pl9dm",
         "line": {
          "color": "#FFA15A",
          "dash": "solid"
         },
         "marker": {
          "symbol": "circle"
         },
         "mode": "lines",
         "name": "ot-ditto-policies-575d5579db-pl9dm",
         "orientation": "v",
         "showlegend": true,
         "type": "scatter",
         "x": [
          "0:00:00",
          "0:00:15",
          "0:00:30",
          "0:00:45",
          "0:01:00",
          "0:01:15",
          "0:01:30",
          "0:01:45",
          "0:02:00",
          "0:02:15",
          "0:02:30",
          "0:02:45",
          "0:03:00",
          "0:03:15",
          "0:03:30",
          "0:03:45",
          "0:04:00",
          "0:04:15",
          "0:04:30",
          "0:04:45",
          "0:05:00",
          "0:05:15",
          "0:05:30",
          "0:05:45",
          "0:06:00",
          "0:06:15",
          "0:06:30",
          "0:06:45",
          "0:07:00",
          "0:07:15",
          "0:07:30",
          "0:07:45",
          "0:08:00",
          "0:08:15",
          "0:08:30",
          "0:08:45",
          "0:09:00",
          "0:09:15",
          "0:09:30",
          "0:09:45",
          "0:10:00",
          "0:10:15",
          "0:10:30",
          "0:10:45",
          "0:11:00",
          "0:11:15",
          "0:11:30",
          "0:11:45",
          "0:12:00",
          "0:12:15",
          "0:12:30",
          "0:12:45",
          "0:13:00",
          "0:13:15",
          "0:13:30",
          "0:13:45",
          "0:14:00",
          "0:14:15",
          "0:14:30",
          "0:14:45",
          "0:15:00"
         ],
         "xaxis": "x",
         "y": [
          458.539008,
          458.67008,
          458.919936,
          458.764288,
          458.665984,
          459.046912,
          458.919936,
          458.682368,
          458.903552,
          458.801152,
          458.780672,
          458.9568,
          459.071488,
          458.461184,
          458.801152,
          458.559488,
          459.149312,
          458.780672,
          458.67008,
          458.67008,
          458.674176,
          459.03872,
          459.03872,
          458.715136,
          458.993664,
          459.01824,
          458.522624,
          458.432512,
          459.313152,
          458.715136,
          459.165696,
          458.960896,
          458.440704,
          458.805248,
          458.89536,
          458.89536,
          458.399744,
          458.399744,
          458.919936,
          458.584064,
          458.678272,
          458.579968,
          459.337728,
          459.337728,
          458.428416,
          458.817536,
          459.051008,
          458.698752,
          458.809344,
          458.768384,
          458.674176,
          458.706944,
          459.03872,
          459.03872,
          458.928128,
          458.391552,
          458.83392,
          459.218944,
          458.784768,
          458.489856,
          458.440704
         ],
         "yaxis": "y"
        },
        {
         "hovertemplate": "variable=ot-ditto-things-588dd96f9-lrw9k<br>Time=%{x}<br>value=%{y}<extra></extra>",
         "legendgroup": "ot-ditto-things-588dd96f9-lrw9k",
         "line": {
          "color": "#19d3f3",
          "dash": "solid"
         },
         "marker": {
          "symbol": "circle"
         },
         "mode": "lines",
         "name": "ot-ditto-things-588dd96f9-lrw9k",
         "orientation": "v",
         "showlegend": true,
         "type": "scatter",
         "x": [
          "0:00:00",
          "0:00:15",
          "0:00:30",
          "0:00:45",
          "0:01:00",
          "0:01:15",
          "0:01:30",
          "0:01:45",
          "0:02:00",
          "0:02:15",
          "0:02:30",
          "0:02:45",
          "0:03:00",
          "0:03:15",
          "0:03:30",
          "0:03:45",
          "0:04:00",
          "0:04:15",
          "0:04:30",
          "0:04:45",
          "0:05:00",
          "0:05:15",
          "0:05:30",
          "0:05:45",
          "0:06:00",
          "0:06:15",
          "0:06:30",
          "0:06:45",
          "0:07:00",
          "0:07:15",
          "0:07:30",
          "0:07:45",
          "0:08:00",
          "0:08:15",
          "0:08:30",
          "0:08:45",
          "0:09:00",
          "0:09:15",
          "0:09:30",
          "0:09:45",
          "0:10:00",
          "0:10:15",
          "0:10:30",
          "0:10:45",
          "0:11:00",
          "0:11:15",
          "0:11:30",
          "0:11:45",
          "0:12:00",
          "0:12:15",
          "0:12:30",
          "0:12:45",
          "0:13:00",
          "0:13:15",
          "0:13:30",
          "0:13:45",
          "0:14:00",
          "0:14:15",
          "0:14:30",
          "0:14:45",
          "0:15:00"
         ],
         "xaxis": "x",
         "y": [
          483.282944,
          483.34848,
          483.274752,
          483.045376,
          483.053568,
          483.2256,
          483.381248,
          483.012608,
          483.381248,
          483.381248,
          483.364864,
          482.97984,
          483.397632,
          483.127296,
          482.975744,
          483.414016,
          483.241984,
          483.131392,
          483.1232,
          483.38944,
          482.97984,
          483.504128,
          483.504128,
          483.127296,
          483.40992,
          483.299328,
          483.291136,
          482.889728,
          483.467264,
          483.467264,
          483.172352,
          483.446784,
          483.14368,
          483.581952,
          483.414016,
          483.049472,
          483.168256,
          483.160064,
          483.291136,
          483.28704,
          483.4304,
          483.053568,
          483.172352,
          482.9184,
          483.311616,
          483.414016,
          483.36896,
          483.311616,
          483.311616,
          483.180544,
          483.401728,
          483.295232,
          482.95936,
          483.708928,
          483.454976,
          483.454976,
          483.332096,
          483.06176,
          483.852288,
          482.942976,
          482.942976
         ],
         "yaxis": "y"
        },
        {
         "hovertemplate": "variable=ot-ditto-thingssearch-c9559c6d-dbvf9<br>Time=%{x}<br>value=%{y}<extra></extra>",
         "legendgroup": "ot-ditto-thingssearch-c9559c6d-dbvf9",
         "line": {
          "color": "#FF6692",
          "dash": "solid"
         },
         "marker": {
          "symbol": "circle"
         },
         "mode": "lines",
         "name": "ot-ditto-thingssearch-c9559c6d-dbvf9",
         "orientation": "v",
         "showlegend": true,
         "type": "scatter",
         "x": [
          "0:00:00",
          "0:00:15",
          "0:00:30",
          "0:00:45",
          "0:01:00",
          "0:01:15",
          "0:01:30",
          "0:01:45",
          "0:02:00",
          "0:02:15",
          "0:02:30",
          "0:02:45",
          "0:03:00",
          "0:03:15",
          "0:03:30",
          "0:03:45",
          "0:04:00",
          "0:04:15",
          "0:04:30",
          "0:04:45",
          "0:05:00",
          "0:05:15",
          "0:05:30",
          "0:05:45",
          "0:06:00",
          "0:06:15",
          "0:06:30",
          "0:06:45",
          "0:07:00",
          "0:07:15",
          "0:07:30",
          "0:07:45",
          "0:08:00",
          "0:08:15",
          "0:08:30",
          "0:08:45",
          "0:09:00",
          "0:09:15",
          "0:09:30",
          "0:09:45",
          "0:10:00",
          "0:10:15",
          "0:10:30",
          "0:10:45",
          "0:11:00",
          "0:11:15",
          "0:11:30",
          "0:11:45",
          "0:12:00",
          "0:12:15",
          "0:12:30",
          "0:12:45",
          "0:13:00",
          "0:13:15",
          "0:13:30",
          "0:13:45",
          "0:14:00",
          "0:14:15",
          "0:14:30",
          "0:14:45",
          "0:15:00"
         ],
         "xaxis": "x",
         "y": [
          451.760128,
          451.91168,
          451.780608,
          451.739648,
          451.739648,
          451.9936,
          452.1984,
          452.001792,
          452.161536,
          451.6864,
          451.874816,
          451.899392,
          451.649536,
          452.022272,
          452.165632,
          451.964928,
          451.772416,
          451.7888,
          452.050944,
          451.989504,
          452.272128,
          451.9936,
          452.165632,
          452.13696,
          451.760128,
          452.042752,
          451.883008,
          451.895296,
          451.895296,
          451.56352,
          451.74784,
          451.80928,
          451.87072,
          451.526656,
          452.128768,
          451.792896,
          451.8912,
          451.8912,
          452.337664,
          452.001792,
          452.243456,
          451.907584,
          452.247552,
          451.883008,
          451.903488,
          451.551232,
          451.936256,
          451.936256,
          452.399104,
          451.7888,
          451.710976,
          452.009984,
          452.009984,
          451.928064,
          451.915776,
          451.66592,
          452.263936,
          452.022272,
          452.07552,
          452.050944,
          452.022272
         ],
         "yaxis": "y"
        },
        {
         "hovertemplate": "variable=ot-mosquitto-5f7bdff747-rtf8v<br>Time=%{x}<br>value=%{y}<extra></extra>",
         "legendgroup": "ot-mosquitto-5f7bdff747-rtf8v",
         "line": {
          "color": "#B6E880",
          "dash": "solid"
         },
         "marker": {
          "symbol": "circle"
         },
         "mode": "lines",
         "name": "ot-mosquitto-5f7bdff747-rtf8v",
         "orientation": "v",
         "showlegend": true,
         "type": "scatter",
         "x": [
          "0:00:00",
          "0:00:15",
          "0:00:30",
          "0:00:45",
          "0:01:00",
          "0:01:15",
          "0:01:30",
          "0:01:45",
          "0:02:00",
          "0:02:15",
          "0:02:30",
          "0:02:45",
          "0:03:00",
          "0:03:15",
          "0:03:30",
          "0:03:45",
          "0:04:00",
          "0:04:15",
          "0:04:30",
          "0:04:45",
          "0:05:00",
          "0:05:15",
          "0:05:30",
          "0:05:45",
          "0:06:00",
          "0:06:15",
          "0:06:30",
          "0:06:45",
          "0:07:00",
          "0:07:15",
          "0:07:30",
          "0:07:45",
          "0:08:00",
          "0:08:15",
          "0:08:30",
          "0:08:45",
          "0:09:00",
          "0:09:15",
          "0:09:30",
          "0:09:45",
          "0:10:00",
          "0:10:15",
          "0:10:30",
          "0:10:45",
          "0:11:00",
          "0:11:15",
          "0:11:30",
          "0:11:45",
          "0:12:00",
          "0:12:15",
          "0:12:30",
          "0:12:45",
          "0:13:00",
          "0:13:15",
          "0:13:30",
          "0:13:45",
          "0:14:00",
          "0:14:15",
          "0:14:30",
          "0:14:45",
          "0:15:00"
         ],
         "xaxis": "x",
         "y": [
          1.196032,
          1.06496,
          1.06496,
          1.06496,
          1.06496,
          1.06496,
          1.06496,
          1.196032,
          1.06496,
          1.06496,
          1.06496,
          1.06496,
          1.06496,
          1.06496,
          1.06496,
          1.06496,
          1.196032,
          1.06496,
          1.06496,
          1.06496,
          1.06496,
          1.06496,
          1.06496,
          1.06496,
          1.06496,
          1.06496,
          1.06496,
          1.06496,
          1.06496,
          1.06496,
          1.06496,
          1.196032,
          1.196032,
          1.06496,
          1.06496,
          1.06496,
          1.196032,
          1.06496,
          1.06496,
          1.06496,
          1.06496,
          1.06496,
          1.196032,
          1.06496,
          1.06496,
          1.06496,
          1.06496,
          1.06496,
          1.06496,
          1.06496,
          1.06496,
          1.06496,
          1.06496,
          1.196032,
          1.06496,
          1.06496,
          1.196032,
          1.06496,
          1.06496,
          1.06496,
          1.06496
         ],
         "yaxis": "y"
        },
        {
         "hovertemplate": "variable=Combined<br>Time=%{x}<br>value=%{y}<extra></extra>",
         "legendgroup": "Combined",
         "line": {
          "color": "#FF97FF",
          "dash": "solid"
         },
         "marker": {
          "symbol": "circle"
         },
         "mode": "lines",
         "name": "Combined",
         "orientation": "v",
         "showlegend": true,
         "type": "scatter",
         "x": [
          "0:00:00",
          "0:00:15",
          "0:00:30",
          "0:00:45",
          "0:01:00",
          "0:01:15",
          "0:01:30",
          "0:01:45",
          "0:02:00",
          "0:02:15",
          "0:02:30",
          "0:02:45",
          "0:03:00",
          "0:03:15",
          "0:03:30",
          "0:03:45",
          "0:04:00",
          "0:04:15",
          "0:04:30",
          "0:04:45",
          "0:05:00",
          "0:05:15",
          "0:05:30",
          "0:05:45",
          "0:06:00",
          "0:06:15",
          "0:06:30",
          "0:06:45",
          "0:07:00",
          "0:07:15",
          "0:07:30",
          "0:07:45",
          "0:08:00",
          "0:08:15",
          "0:08:30",
          "0:08:45",
          "0:09:00",
          "0:09:15",
          "0:09:30",
          "0:09:45",
          "0:10:00",
          "0:10:15",
          "0:10:30",
          "0:10:45",
          "0:11:00",
          "0:11:15",
          "0:11:30",
          "0:11:45",
          "0:12:00",
          "0:12:15",
          "0:12:30",
          "0:12:45",
          "0:13:00",
          "0:13:15",
          "0:13:30",
          "0:13:45",
          "0:14:00",
          "0:14:15",
          "0:14:30",
          "0:14:45",
          "0:15:00"
         ],
         "xaxis": "x",
         "y": [
          2790.4614399999996,
          2790.3303680000004,
          2791.5304960000003,
          2789.629952,
          2790.35904,
          2790.9693440000005,
          2791.5223040000005,
          2790.8792320000002,
          2792.247296,
          2790.33856,
          2927.4398720000004,
          2791.247872,
          2791.841792,
          2791.3216,
          2791.0553600000003,
          2958.942208,
          2791.038976,
          2790.506496,
          2791.5018240000004,
          2790.6908160000003,
          2791.4567680000005,
          2970.902528,
          2960.1095680000003,
          2791.927808,
          2791.333888,
          2971.537408,
          2790.8505600000003,
          2909.6755200000002,
          2792.0056320000003,
          2961.465344,
          2792.6691840000003,
          2792.943616,
          2791.784448,
          2792.214528,
          2792.189952,
          2792.0343040000002,
          2792.554496,
          2792.1981440000004,
          2792.6855680000003,
          3150.8480000000004,
          2793.1484160000005,
          3137.45408,
          2792.3660799999993,
          2792.59136,
          2990.829568,
          2970.857472,
          2793.1238399999997,
          2791.7516800000003,
          2793.1484160000005,
          2791.931904,
          2948.104192,
          2792.50944,
          2792.5544959999997,
          2793.43104,
          2792.927232,
          2793.234432,
          3116.8880639999998,
          2794.1560320000003,
          2793.005056,
          2792.22272,
          2792.2759680000004
         ],
         "yaxis": "y"
        }
       ],
       "layout": {
        "legend": {
         "title": {
          "text": "variable"
         },
         "tracegroupgap": 0
        },
        "template": {
         "data": {
          "bar": [
           {
            "error_x": {
             "color": "#2a3f5f"
            },
            "error_y": {
             "color": "#2a3f5f"
            },
            "marker": {
             "line": {
              "color": "#E5ECF6",
              "width": 0.5
             },
             "pattern": {
              "fillmode": "overlay",
              "size": 10,
              "solidity": 0.2
             }
            },
            "type": "bar"
           }
          ],
          "barpolar": [
           {
            "marker": {
             "line": {
              "color": "#E5ECF6",
              "width": 0.5
             },
             "pattern": {
              "fillmode": "overlay",
              "size": 10,
              "solidity": 0.2
             }
            },
            "type": "barpolar"
           }
          ],
          "carpet": [
           {
            "aaxis": {
             "endlinecolor": "#2a3f5f",
             "gridcolor": "white",
             "linecolor": "white",
             "minorgridcolor": "white",
             "startlinecolor": "#2a3f5f"
            },
            "baxis": {
             "endlinecolor": "#2a3f5f",
             "gridcolor": "white",
             "linecolor": "white",
             "minorgridcolor": "white",
             "startlinecolor": "#2a3f5f"
            },
            "type": "carpet"
           }
          ],
          "choropleth": [
           {
            "colorbar": {
             "outlinewidth": 0,
             "ticks": ""
            },
            "type": "choropleth"
           }
          ],
          "contour": [
           {
            "colorbar": {
             "outlinewidth": 0,
             "ticks": ""
            },
            "colorscale": [
             [
              0,
              "#0d0887"
             ],
             [
              0.1111111111111111,
              "#46039f"
             ],
             [
              0.2222222222222222,
              "#7201a8"
             ],
             [
              0.3333333333333333,
              "#9c179e"
             ],
             [
              0.4444444444444444,
              "#bd3786"
             ],
             [
              0.5555555555555556,
              "#d8576b"
             ],
             [
              0.6666666666666666,
              "#ed7953"
             ],
             [
              0.7777777777777778,
              "#fb9f3a"
             ],
             [
              0.8888888888888888,
              "#fdca26"
             ],
             [
              1,
              "#f0f921"
             ]
            ],
            "type": "contour"
           }
          ],
          "contourcarpet": [
           {
            "colorbar": {
             "outlinewidth": 0,
             "ticks": ""
            },
            "type": "contourcarpet"
           }
          ],
          "heatmap": [
           {
            "colorbar": {
             "outlinewidth": 0,
             "ticks": ""
            },
            "colorscale": [
             [
              0,
              "#0d0887"
             ],
             [
              0.1111111111111111,
              "#46039f"
             ],
             [
              0.2222222222222222,
              "#7201a8"
             ],
             [
              0.3333333333333333,
              "#9c179e"
             ],
             [
              0.4444444444444444,
              "#bd3786"
             ],
             [
              0.5555555555555556,
              "#d8576b"
             ],
             [
              0.6666666666666666,
              "#ed7953"
             ],
             [
              0.7777777777777778,
              "#fb9f3a"
             ],
             [
              0.8888888888888888,
              "#fdca26"
             ],
             [
              1,
              "#f0f921"
             ]
            ],
            "type": "heatmap"
           }
          ],
          "heatmapgl": [
           {
            "colorbar": {
             "outlinewidth": 0,
             "ticks": ""
            },
            "colorscale": [
             [
              0,
              "#0d0887"
             ],
             [
              0.1111111111111111,
              "#46039f"
             ],
             [
              0.2222222222222222,
              "#7201a8"
             ],
             [
              0.3333333333333333,
              "#9c179e"
             ],
             [
              0.4444444444444444,
              "#bd3786"
             ],
             [
              0.5555555555555556,
              "#d8576b"
             ],
             [
              0.6666666666666666,
              "#ed7953"
             ],
             [
              0.7777777777777778,
              "#fb9f3a"
             ],
             [
              0.8888888888888888,
              "#fdca26"
             ],
             [
              1,
              "#f0f921"
             ]
            ],
            "type": "heatmapgl"
           }
          ],
          "histogram": [
           {
            "marker": {
             "pattern": {
              "fillmode": "overlay",
              "size": 10,
              "solidity": 0.2
             }
            },
            "type": "histogram"
           }
          ],
          "histogram2d": [
           {
            "colorbar": {
             "outlinewidth": 0,
             "ticks": ""
            },
            "colorscale": [
             [
              0,
              "#0d0887"
             ],
             [
              0.1111111111111111,
              "#46039f"
             ],
             [
              0.2222222222222222,
              "#7201a8"
             ],
             [
              0.3333333333333333,
              "#9c179e"
             ],
             [
              0.4444444444444444,
              "#bd3786"
             ],
             [
              0.5555555555555556,
              "#d8576b"
             ],
             [
              0.6666666666666666,
              "#ed7953"
             ],
             [
              0.7777777777777778,
              "#fb9f3a"
             ],
             [
              0.8888888888888888,
              "#fdca26"
             ],
             [
              1,
              "#f0f921"
             ]
            ],
            "type": "histogram2d"
           }
          ],
          "histogram2dcontour": [
           {
            "colorbar": {
             "outlinewidth": 0,
             "ticks": ""
            },
            "colorscale": [
             [
              0,
              "#0d0887"
             ],
             [
              0.1111111111111111,
              "#46039f"
             ],
             [
              0.2222222222222222,
              "#7201a8"
             ],
             [
              0.3333333333333333,
              "#9c179e"
             ],
             [
              0.4444444444444444,
              "#bd3786"
             ],
             [
              0.5555555555555556,
              "#d8576b"
             ],
             [
              0.6666666666666666,
              "#ed7953"
             ],
             [
              0.7777777777777778,
              "#fb9f3a"
             ],
             [
              0.8888888888888888,
              "#fdca26"
             ],
             [
              1,
              "#f0f921"
             ]
            ],
            "type": "histogram2dcontour"
           }
          ],
          "mesh3d": [
           {
            "colorbar": {
             "outlinewidth": 0,
             "ticks": ""
            },
            "type": "mesh3d"
           }
          ],
          "parcoords": [
           {
            "line": {
             "colorbar": {
              "outlinewidth": 0,
              "ticks": ""
             }
            },
            "type": "parcoords"
           }
          ],
          "pie": [
           {
            "automargin": true,
            "type": "pie"
           }
          ],
          "scatter": [
           {
            "fillpattern": {
             "fillmode": "overlay",
             "size": 10,
             "solidity": 0.2
            },
            "type": "scatter"
           }
          ],
          "scatter3d": [
           {
            "line": {
             "colorbar": {
              "outlinewidth": 0,
              "ticks": ""
             }
            },
            "marker": {
             "colorbar": {
              "outlinewidth": 0,
              "ticks": ""
             }
            },
            "type": "scatter3d"
           }
          ],
          "scattercarpet": [
           {
            "marker": {
             "colorbar": {
              "outlinewidth": 0,
              "ticks": ""
             }
            },
            "type": "scattercarpet"
           }
          ],
          "scattergeo": [
           {
            "marker": {
             "colorbar": {
              "outlinewidth": 0,
              "ticks": ""
             }
            },
            "type": "scattergeo"
           }
          ],
          "scattergl": [
           {
            "marker": {
             "colorbar": {
              "outlinewidth": 0,
              "ticks": ""
             }
            },
            "type": "scattergl"
           }
          ],
          "scattermapbox": [
           {
            "marker": {
             "colorbar": {
              "outlinewidth": 0,
              "ticks": ""
             }
            },
            "type": "scattermapbox"
           }
          ],
          "scatterpolar": [
           {
            "marker": {
             "colorbar": {
              "outlinewidth": 0,
              "ticks": ""
             }
            },
            "type": "scatterpolar"
           }
          ],
          "scatterpolargl": [
           {
            "marker": {
             "colorbar": {
              "outlinewidth": 0,
              "ticks": ""
             }
            },
            "type": "scatterpolargl"
           }
          ],
          "scatterternary": [
           {
            "marker": {
             "colorbar": {
              "outlinewidth": 0,
              "ticks": ""
             }
            },
            "type": "scatterternary"
           }
          ],
          "surface": [
           {
            "colorbar": {
             "outlinewidth": 0,
             "ticks": ""
            },
            "colorscale": [
             [
              0,
              "#0d0887"
             ],
             [
              0.1111111111111111,
              "#46039f"
             ],
             [
              0.2222222222222222,
              "#7201a8"
             ],
             [
              0.3333333333333333,
              "#9c179e"
             ],
             [
              0.4444444444444444,
              "#bd3786"
             ],
             [
              0.5555555555555556,
              "#d8576b"
             ],
             [
              0.6666666666666666,
              "#ed7953"
             ],
             [
              0.7777777777777778,
              "#fb9f3a"
             ],
             [
              0.8888888888888888,
              "#fdca26"
             ],
             [
              1,
              "#f0f921"
             ]
            ],
            "type": "surface"
           }
          ],
          "table": [
           {
            "cells": {
             "fill": {
              "color": "#EBF0F8"
             },
             "line": {
              "color": "white"
             }
            },
            "header": {
             "fill": {
              "color": "#C8D4E3"
             },
             "line": {
              "color": "white"
             }
            },
            "type": "table"
           }
          ]
         },
         "layout": {
          "annotationdefaults": {
           "arrowcolor": "#2a3f5f",
           "arrowhead": 0,
           "arrowwidth": 1
          },
          "autotypenumbers": "strict",
          "coloraxis": {
           "colorbar": {
            "outlinewidth": 0,
            "ticks": ""
           }
          },
          "colorscale": {
           "diverging": [
            [
             0,
             "#8e0152"
            ],
            [
             0.1,
             "#c51b7d"
            ],
            [
             0.2,
             "#de77ae"
            ],
            [
             0.3,
             "#f1b6da"
            ],
            [
             0.4,
             "#fde0ef"
            ],
            [
             0.5,
             "#f7f7f7"
            ],
            [
             0.6,
             "#e6f5d0"
            ],
            [
             0.7,
             "#b8e186"
            ],
            [
             0.8,
             "#7fbc41"
            ],
            [
             0.9,
             "#4d9221"
            ],
            [
             1,
             "#276419"
            ]
           ],
           "sequential": [
            [
             0,
             "#0d0887"
            ],
            [
             0.1111111111111111,
             "#46039f"
            ],
            [
             0.2222222222222222,
             "#7201a8"
            ],
            [
             0.3333333333333333,
             "#9c179e"
            ],
            [
             0.4444444444444444,
             "#bd3786"
            ],
            [
             0.5555555555555556,
             "#d8576b"
            ],
            [
             0.6666666666666666,
             "#ed7953"
            ],
            [
             0.7777777777777778,
             "#fb9f3a"
            ],
            [
             0.8888888888888888,
             "#fdca26"
            ],
            [
             1,
             "#f0f921"
            ]
           ],
           "sequentialminus": [
            [
             0,
             "#0d0887"
            ],
            [
             0.1111111111111111,
             "#46039f"
            ],
            [
             0.2222222222222222,
             "#7201a8"
            ],
            [
             0.3333333333333333,
             "#9c179e"
            ],
            [
             0.4444444444444444,
             "#bd3786"
            ],
            [
             0.5555555555555556,
             "#d8576b"
            ],
            [
             0.6666666666666666,
             "#ed7953"
            ],
            [
             0.7777777777777778,
             "#fb9f3a"
            ],
            [
             0.8888888888888888,
             "#fdca26"
            ],
            [
             1,
             "#f0f921"
            ]
           ]
          },
          "colorway": [
           "#636efa",
           "#EF553B",
           "#00cc96",
           "#ab63fa",
           "#FFA15A",
           "#19d3f3",
           "#FF6692",
           "#B6E880",
           "#FF97FF",
           "#FECB52"
          ],
          "font": {
           "color": "#2a3f5f"
          },
          "geo": {
           "bgcolor": "white",
           "lakecolor": "white",
           "landcolor": "#E5ECF6",
           "showlakes": true,
           "showland": true,
           "subunitcolor": "white"
          },
          "hoverlabel": {
           "align": "left"
          },
          "hovermode": "closest",
          "mapbox": {
           "style": "light"
          },
          "paper_bgcolor": "white",
          "plot_bgcolor": "#E5ECF6",
          "polar": {
           "angularaxis": {
            "gridcolor": "white",
            "linecolor": "white",
            "ticks": ""
           },
           "bgcolor": "#E5ECF6",
           "radialaxis": {
            "gridcolor": "white",
            "linecolor": "white",
            "ticks": ""
           }
          },
          "scene": {
           "xaxis": {
            "backgroundcolor": "#E5ECF6",
            "gridcolor": "white",
            "gridwidth": 2,
            "linecolor": "white",
            "showbackground": true,
            "ticks": "",
            "zerolinecolor": "white"
           },
           "yaxis": {
            "backgroundcolor": "#E5ECF6",
            "gridcolor": "white",
            "gridwidth": 2,
            "linecolor": "white",
            "showbackground": true,
            "ticks": "",
            "zerolinecolor": "white"
           },
           "zaxis": {
            "backgroundcolor": "#E5ECF6",
            "gridcolor": "white",
            "gridwidth": 2,
            "linecolor": "white",
            "showbackground": true,
            "ticks": "",
            "zerolinecolor": "white"
           }
          },
          "shapedefaults": {
           "line": {
            "color": "#2a3f5f"
           }
          },
          "ternary": {
           "aaxis": {
            "gridcolor": "white",
            "linecolor": "white",
            "ticks": ""
           },
           "baxis": {
            "gridcolor": "white",
            "linecolor": "white",
            "ticks": ""
           },
           "bgcolor": "#E5ECF6",
           "caxis": {
            "gridcolor": "white",
            "linecolor": "white",
            "ticks": ""
           }
          },
          "title": {
           "x": 0.05
          },
          "xaxis": {
           "automargin": true,
           "gridcolor": "white",
           "linecolor": "white",
           "ticks": "",
           "title": {
            "standoff": 15
           },
           "zerolinecolor": "white",
           "zerolinewidth": 2
          },
          "yaxis": {
           "automargin": true,
           "gridcolor": "white",
           "linecolor": "white",
           "ticks": "",
           "title": {
            "standoff": 15
           },
           "zerolinecolor": "white",
           "zerolinewidth": 2
          }
         }
        },
        "title": {
         "text": "Memory Usage mb"
        },
        "xaxis": {
         "anchor": "y",
         "domain": [
          0,
          1
         ],
         "title": {
          "text": "Time"
         }
        },
        "yaxis": {
         "anchor": "x",
         "domain": [
          0,
          1
         ],
         "title": {
          "text": "value"
         }
        }
       }
      }
     },
     "metadata": {},
     "output_type": "display_data"
    }
   ],
   "source": [
    "# Plot using matplotlib\n",
    "plt.figure(figsize=(15, 5))\n",
    "plt.plot(light_mem.index, light_mem)\n",
    "plt.xlabel('Time')\n",
    "plt.xticks(rotation=90)\n",
    "plt.ylabel('Value')\n",
    "plt.title('Memory Usage mb')\n",
    "plt.legend(light_mem.keys(), bbox_to_anchor=(1.01, 1), loc=\"upper left\")\n",
    "plt.show()\n",
    "\n",
    "# Plot using plotly\n",
    "fig = px.line(light_mem, x=light_mem.index, y=light_mem.keys(), title='Memory Usage mb')\n",
    "fig.show()"
   ]
  },
  {
   "cell_type": "markdown",
   "metadata": {},
   "source": [
    "### Network"
   ]
  },
  {
   "cell_type": "code",
   "execution_count": 7,
   "metadata": {},
   "outputs": [
    {
     "data": {
      "text/html": [
       "<div>\n",
       "<style scoped>\n",
       "    .dataframe tbody tr th:only-of-type {\n",
       "        vertical-align: middle;\n",
       "    }\n",
       "\n",
       "    .dataframe tbody tr th {\n",
       "        vertical-align: top;\n",
       "    }\n",
       "\n",
       "    .dataframe thead th {\n",
       "        text-align: right;\n",
       "    }\n",
       "</style>\n",
       "<table border=\"1\" class=\"dataframe\">\n",
       "  <thead>\n",
       "    <tr style=\"text-align: right;\">\n",
       "      <th></th>\n",
       "      <th>ot-ditto-connectivity-7b564988f7-kbvbr</th>\n",
       "      <th>ot-ditto-gateway-5b9f6dc596-p47k2</th>\n",
       "      <th>ot-ditto-mongodb-669768b5b4-kw98h</th>\n",
       "      <th>ot-ditto-nginx-d4bb498fc-9wjlb</th>\n",
       "      <th>ot-ditto-policies-575d5579db-pl9dm</th>\n",
       "      <th>ot-ditto-things-588dd96f9-lrw9k</th>\n",
       "      <th>ot-ditto-thingssearch-c9559c6d-dbvf9</th>\n",
       "      <th>ot-mosquitto-5f7bdff747-rtf8v</th>\n",
       "      <th>Combined</th>\n",
       "    </tr>\n",
       "    <tr>\n",
       "      <th>Time</th>\n",
       "      <th></th>\n",
       "      <th></th>\n",
       "      <th></th>\n",
       "      <th></th>\n",
       "      <th></th>\n",
       "      <th></th>\n",
       "      <th></th>\n",
       "      <th></th>\n",
       "      <th></th>\n",
       "    </tr>\n",
       "  </thead>\n",
       "  <tbody>\n",
       "    <tr>\n",
       "      <th>0:00:00</th>\n",
       "      <td>0.011307</td>\n",
       "      <td>0.010488</td>\n",
       "      <td>0.003192</td>\n",
       "      <td>9.916667e-07</td>\n",
       "      <td>0.009354</td>\n",
       "      <td>0.011117</td>\n",
       "      <td>0.006865</td>\n",
       "      <td>0.000058</td>\n",
       "      <td>0.052383</td>\n",
       "    </tr>\n",
       "    <tr>\n",
       "      <th>0:00:15</th>\n",
       "      <td>0.011315</td>\n",
       "      <td>0.010382</td>\n",
       "      <td>0.003183</td>\n",
       "      <td>9.731548e-07</td>\n",
       "      <td>0.009340</td>\n",
       "      <td>0.011114</td>\n",
       "      <td>0.006879</td>\n",
       "      <td>0.000059</td>\n",
       "      <td>0.052273</td>\n",
       "    </tr>\n",
       "    <tr>\n",
       "      <th>0:00:30</th>\n",
       "      <td>0.011286</td>\n",
       "      <td>0.010663</td>\n",
       "      <td>0.003070</td>\n",
       "      <td>9.604632e-07</td>\n",
       "      <td>0.009349</td>\n",
       "      <td>0.011120</td>\n",
       "      <td>0.006853</td>\n",
       "      <td>0.000057</td>\n",
       "      <td>0.052399</td>\n",
       "    </tr>\n",
       "    <tr>\n",
       "      <th>0:00:45</th>\n",
       "      <td>0.011232</td>\n",
       "      <td>0.010626</td>\n",
       "      <td>0.003112</td>\n",
       "      <td>9.554423e-07</td>\n",
       "      <td>0.009361</td>\n",
       "      <td>0.011119</td>\n",
       "      <td>0.006831</td>\n",
       "      <td>0.000058</td>\n",
       "      <td>0.052340</td>\n",
       "    </tr>\n",
       "    <tr>\n",
       "      <th>0:01:00</th>\n",
       "      <td>0.011256</td>\n",
       "      <td>0.010050</td>\n",
       "      <td>0.003133</td>\n",
       "      <td>7.126665e-07</td>\n",
       "      <td>0.009369</td>\n",
       "      <td>0.010856</td>\n",
       "      <td>0.006821</td>\n",
       "      <td>0.000059</td>\n",
       "      <td>0.051544</td>\n",
       "    </tr>\n",
       "  </tbody>\n",
       "</table>\n",
       "</div>"
      ],
      "text/plain": [
       "         ot-ditto-connectivity-7b564988f7-kbvbr  \\\n",
       "Time                                              \n",
       "0:00:00                                0.011307   \n",
       "0:00:15                                0.011315   \n",
       "0:00:30                                0.011286   \n",
       "0:00:45                                0.011232   \n",
       "0:01:00                                0.011256   \n",
       "\n",
       "         ot-ditto-gateway-5b9f6dc596-p47k2  ot-ditto-mongodb-669768b5b4-kw98h  \\\n",
       "Time                                                                            \n",
       "0:00:00                           0.010488                           0.003192   \n",
       "0:00:15                           0.010382                           0.003183   \n",
       "0:00:30                           0.010663                           0.003070   \n",
       "0:00:45                           0.010626                           0.003112   \n",
       "0:01:00                           0.010050                           0.003133   \n",
       "\n",
       "         ot-ditto-nginx-d4bb498fc-9wjlb  ot-ditto-policies-575d5579db-pl9dm  \\\n",
       "Time                                                                          \n",
       "0:00:00                    9.916667e-07                            0.009354   \n",
       "0:00:15                    9.731548e-07                            0.009340   \n",
       "0:00:30                    9.604632e-07                            0.009349   \n",
       "0:00:45                    9.554423e-07                            0.009361   \n",
       "0:01:00                    7.126665e-07                            0.009369   \n",
       "\n",
       "         ot-ditto-things-588dd96f9-lrw9k  \\\n",
       "Time                                       \n",
       "0:00:00                         0.011117   \n",
       "0:00:15                         0.011114   \n",
       "0:00:30                         0.011120   \n",
       "0:00:45                         0.011119   \n",
       "0:01:00                         0.010856   \n",
       "\n",
       "         ot-ditto-thingssearch-c9559c6d-dbvf9  ot-mosquitto-5f7bdff747-rtf8v  \\\n",
       "Time                                                                           \n",
       "0:00:00                              0.006865                       0.000058   \n",
       "0:00:15                              0.006879                       0.000059   \n",
       "0:00:30                              0.006853                       0.000057   \n",
       "0:00:45                              0.006831                       0.000058   \n",
       "0:01:00                              0.006821                       0.000059   \n",
       "\n",
       "         Combined  \n",
       "Time               \n",
       "0:00:00  0.052383  \n",
       "0:00:15  0.052273  \n",
       "0:00:30  0.052399  \n",
       "0:00:45  0.052340  \n",
       "0:01:00  0.051544  "
      ]
     },
     "execution_count": 7,
     "metadata": {},
     "output_type": "execute_result"
    }
   ],
   "source": [
    "light_network.head()"
   ]
  },
  {
   "cell_type": "code",
   "execution_count": 8,
   "metadata": {},
   "outputs": [
    {
     "data": {
      "image/png": "[encoded data removed]",
      "text/plain": [
       "<Figure size 1500x500 with 1 Axes>"
      ]
     },
     "metadata": {},
     "output_type": "display_data"
    },
    {
     "data": {
      "application/vnd.plotly.v1+json": {
       "config": {
        "plotlyServerURL": "https://plot.ly"
       },
       "data": [
        {
         "hovertemplate": "variable=ot-ditto-connectivity-7b564988f7-kbvbr<br>Time=%{x}<br>value=%{y}<extra></extra>",
         "legendgroup": "ot-ditto-connectivity-7b564988f7-kbvbr",
         "line": {
          "color": "#636efa",
          "dash": "solid"
         },
         "marker": {
          "symbol": "circle"
         },
         "mode": "lines",
         "name": "ot-ditto-connectivity-7b564988f7-kbvbr",
         "orientation": "v",
         "showlegend": true,
         "type": "scatter",
         "x": [
          "0:00:00",
          "0:00:15",
          "0:00:30",
          "0:00:45",
          "0:01:00",
          "0:01:15",
          "0:01:30",
          "0:01:45",
          "0:02:00",
          "0:02:15",
          "0:02:30",
          "0:02:45",
          "0:03:00",
          "0:03:15",
          "0:03:30",
          "0:03:45",
          "0:04:00",
          "0:04:15",
          "0:04:30",
          "0:04:45",
          "0:05:00",
          "0:05:15",
          "0:05:30",
          "0:05:45",
          "0:06:00",
          "0:06:15",
          "0:06:30",
          "0:06:45",
          "0:07:00",
          "0:07:15",
          "0:07:30",
          "0:07:45",
          "0:08:00",
          "0:08:15",
          "0:08:30",
          "0:08:45",
          "0:09:00",
          "0:09:15",
          "0:09:30",
          "0:09:45",
          "0:10:00",
          "0:10:15",
          "0:10:30",
          "0:10:45",
          "0:11:00",
          "0:11:15",
          "0:11:30",
          "0:11:45",
          "0:12:00",
          "0:12:15",
          "0:12:30",
          "0:12:45",
          "0:13:00",
          "0:13:15",
          "0:13:30",
          "0:13:45",
          "0:14:00",
          "0:14:15",
          "0:14:30",
          "0:14:45",
          "0:15:00"
         ],
         "xaxis": "x",
         "y": [
          0.011306770853168351,
          0.011314612739524697,
          0.011285580617752384,
          0.011231699823721982,
          0.011256095579223909,
          0.01104639743780092,
          0.011246312519668254,
          0.011297885119969653,
          0.011298119496193384,
          0.011219849750923992,
          0.011302184125586333,
          0.011274752561571887,
          0.011025522585337537,
          0.011006861699179785,
          0.011298986616616127,
          0.011274076786274715,
          0.01064597045598815,
          0.011020435521496353,
          0.011298973683469049,
          0.01127243862961033,
          0.010994025183951603,
          0.011303840823117885,
          0.011344850854174478,
          0.011356107916336488,
          0.010771686657219072,
          0.011328340366158452,
          0.010979754483805436,
          0.0113503196371796,
          0.01137378233402483,
          0.011022313232018036,
          0.011378241131249961,
          0.011400465641560248,
          0.011426353789347815,
          0.011395934690754811,
          0.011396271699790905,
          0.011139248990649187,
          0.011424941593884554,
          0.011389151412220529,
          0.011419387525332132,
          0.011398149421517912,
          0.01082848191485432,
          0.011169599873727407,
          0.011436452726898827,
          0.011368482939632546,
          0.01112967351142674,
          0.011142497999393425,
          0.011424729825177768,
          0.01137194593031661,
          0.011062131415744015,
          0.011130845148075259,
          0.01138414942861276,
          0.011368196743472897,
          0.011087211112526358,
          0.011306189562962563,
          0.011363273488316285,
          0.011303353785791804,
          0.011047067432057796,
          0.011361997070552035,
          0.011374358956468348,
          0.011000164795159256,
          0.010961538041114669
         ],
         "yaxis": "y"
        },
        {
         "hovertemplate": "variable=ot-ditto-gateway-5b9f6dc596-p47k2<br>Time=%{x}<br>value=%{y}<extra></extra>",
         "legendgroup": "ot-ditto-gateway-5b9f6dc596-p47k2",
         "line": {
          "color": "#EF553B",
          "dash": "solid"
         },
         "marker": {
          "symbol": "circle"
         },
         "mode": "lines",
         "name": "ot-ditto-gateway-5b9f6dc596-p47k2",
         "orientation": "v",
         "showlegend": true,
         "type": "scatter",
         "x": [
          "0:00:00",
          "0:00:15",
          "0:00:30",
          "0:00:45",
          "0:01:00",
          "0:01:15",
          "0:01:30",
          "0:01:45",
          "0:02:00",
          "0:02:15",
          "0:02:30",
          "0:02:45",
          "0:03:00",
          "0:03:15",
          "0:03:30",
          "0:03:45",
          "0:04:00",
          "0:04:15",
          "0:04:30",
          "0:04:45",
          "0:05:00",
          "0:05:15",
          "0:05:30",
          "0:05:45",
          "0:06:00",
          "0:06:15",
          "0:06:30",
          "0:06:45",
          "0:07:00",
          "0:07:15",
          "0:07:30",
          "0:07:45",
          "0:08:00",
          "0:08:15",
          "0:08:30",
          "0:08:45",
          "0:09:00",
          "0:09:15",
          "0:09:30",
          "0:09:45",
          "0:10:00",
          "0:10:15",
          "0:10:30",
          "0:10:45",
          "0:11:00",
          "0:11:15",
          "0:11:30",
          "0:11:45",
          "0:12:00",
          "0:12:15",
          "0:12:30",
          "0:12:45",
          "0:13:00",
          "0:13:15",
          "0:13:30",
          "0:13:45",
          "0:14:00",
          "0:14:15",
          "0:14:30",
          "0:14:45",
          "0:15:00"
         ],
         "xaxis": "x",
         "y": [
          0.010488464219290165,
          0.010382261718681398,
          0.010663443109471302,
          0.010626171573680294,
          0.01004950198799876,
          0.01063950755957385,
          0.010661209900380275,
          0.010600781210708957,
          0.010677804177804175,
          0.010394490452303378,
          0.010738896105987567,
          0.010725906793212869,
          0.010109813037228172,
          0.010632428718653388,
          0.010728359182386332,
          0.010696497402379757,
          0.010437224401930487,
          0.010711025636562996,
          0.0107065031463493,
          0.010414776659490085,
          0.01072873063619649,
          0.010460797961615675,
          0.010715754204251204,
          0.010758373961309336,
          0.010450258088972498,
          0.010458884653156912,
          0.010682427057055624,
          0.010400794314143208,
          0.010698936959718538,
          0.010687612140116487,
          0.010709326919089287,
          0.010717695173728448,
          0.010215327828372388,
          0.010171134313226833,
          0.010755460562217527,
          0.010773535804163807,
          0.010476303367919715,
          0.010735062129337043,
          0.01050275119935445,
          0.010740467227751602,
          0.010742524126091625,
          0.010507470928575497,
          0.010721461488506806,
          0.010703663855475016,
          0.010664703958128885,
          0.010680993997024168,
          0.010748453133819653,
          0.010681614673847584,
          0.010430189495876048,
          0.010134924039666988,
          0.010698087053923028,
          0.010315072803096592,
          0.010655124838210637,
          0.010684219118510311,
          0.010706027186639789,
          0.010717452938984795,
          0.010431918330053924,
          0.010103502041547226,
          0.010693938400702058,
          0.010669009710930443,
          0.0106546764583622
         ],
         "yaxis": "y"
        },
        {
         "hovertemplate": "variable=ot-ditto-mongodb-669768b5b4-kw98h<br>Time=%{x}<br>value=%{y}<extra></extra>",
         "legendgroup": "ot-ditto-mongodb-669768b5b4-kw98h",
         "line": {
          "color": "#00cc96",
          "dash": "solid"
         },
         "marker": {
          "symbol": "circle"
         },
         "mode": "lines",
         "name": "ot-ditto-mongodb-669768b5b4-kw98h",
         "orientation": "v",
         "showlegend": true,
         "type": "scatter",
         "x": [
          "0:00:00",
          "0:00:15",
          "0:00:30",
          "0:00:45",
          "0:01:00",
          "0:01:15",
          "0:01:30",
          "0:01:45",
          "0:02:00",
          "0:02:15",
          "0:02:30",
          "0:02:45",
          "0:03:00",
          "0:03:15",
          "0:03:30",
          "0:03:45",
          "0:04:00",
          "0:04:15",
          "0:04:30",
          "0:04:45",
          "0:05:00",
          "0:05:15",
          "0:05:30",
          "0:05:45",
          "0:06:00",
          "0:06:15",
          "0:06:30",
          "0:06:45",
          "0:07:00",
          "0:07:15",
          "0:07:30",
          "0:07:45",
          "0:08:00",
          "0:08:15",
          "0:08:30",
          "0:08:45",
          "0:09:00",
          "0:09:15",
          "0:09:30",
          "0:09:45",
          "0:10:00",
          "0:10:15",
          "0:10:30",
          "0:10:45",
          "0:11:00",
          "0:11:15",
          "0:11:30",
          "0:11:45",
          "0:12:00",
          "0:12:15",
          "0:12:30",
          "0:12:45",
          "0:13:00",
          "0:13:15",
          "0:13:30",
          "0:13:45",
          "0:14:00",
          "0:14:15",
          "0:14:30",
          "0:14:45",
          "0:15:00"
         ],
         "xaxis": "x",
         "y": [
          0.00319194000064377,
          0.003182691713414213,
          0.0030698990760072535,
          0.0031117015984327883,
          0.003133058829959736,
          0.0030692050853531744,
          0.0030867979103130425,
          0.0030189837042228847,
          0.003026647302008561,
          0.0030203515452351002,
          0.0031259068149028257,
          0.0030157251346089762,
          0.003139995536990677,
          0.0031288573191492527,
          0.00309663387089731,
          0.003074257255710115,
          0.003097524038461539,
          0.003050075909101863,
          0.003076055721379205,
          0.003106672556398823,
          0.003081473459906032,
          0.0030026315789473683,
          0.00296188101421024,
          0.003007254130076377,
          0.002990820275461971,
          0.0030897771882721662,
          0.003128791345953818,
          0.0031465699936386983,
          0.00319160622694142,
          0.0031519527975644003,
          0.003178859894098709,
          0.0031315027050113904,
          0.003136413544266705,
          0.0030973542849561317,
          0.003152032565506127,
          0.0031172701181926142,
          0.003120342785040833,
          0.003108677740770998,
          0.003157208372653418,
          0.003188720732901463,
          0.003305747663062982,
          0.003234878476395153,
          0.0032607942820829547,
          0.0030438464715139345,
          0.003207679971791733,
          0.0032100521196908264,
          0.0031266979010879568,
          0.003084876817640863,
          0.0030652224791137724,
          0.0030506063894405657,
          0.0030551603634954632,
          0.003048855203460768,
          0.003087391094608817,
          0.0030993008314436883,
          0.0031601994537208446,
          0.003188006603823827,
          0.003156591190419894,
          0.0030421314754872685,
          0.0030306263190856995,
          0.002985184812817327,
          0.0031046656597751594
         ],
         "yaxis": "y"
        },
        {
         "hovertemplate": "variable=ot-ditto-nginx-d4bb498fc-9wjlb<br>Time=%{x}<br>value=%{y}<extra></extra>",
         "legendgroup": "ot-ditto-nginx-d4bb498fc-9wjlb",
         "line": {
          "color": "#ab63fa",
          "dash": "solid"
         },
         "marker": {
          "symbol": "circle"
         },
         "mode": "lines",
         "name": "ot-ditto-nginx-d4bb498fc-9wjlb",
         "orientation": "v",
         "showlegend": true,
         "type": "scatter",
         "x": [
          "0:00:00",
          "0:00:15",
          "0:00:30",
          "0:00:45",
          "0:01:00",
          "0:01:15",
          "0:01:30",
          "0:01:45",
          "0:02:00",
          "0:02:15",
          "0:02:30",
          "0:02:45",
          "0:03:00",
          "0:03:15",
          "0:03:30",
          "0:03:45",
          "0:04:00",
          "0:04:15",
          "0:04:30",
          "0:04:45",
          "0:05:00",
          "0:05:15",
          "0:05:30",
          "0:05:45",
          "0:06:00",
          "0:06:15",
          "0:06:30",
          "0:06:45",
          "0:07:00",
          "0:07:15",
          "0:07:30",
          "0:07:45",
          "0:08:00",
          "0:08:15",
          "0:08:30",
          "0:08:45",
          "0:09:00",
          "0:09:15",
          "0:09:30",
          "0:09:45",
          "0:10:00",
          "0:10:15",
          "0:10:30",
          "0:10:45",
          "0:11:00",
          "0:11:15",
          "0:11:30",
          "0:11:45",
          "0:12:00",
          "0:12:15",
          "0:12:30",
          "0:12:45",
          "0:13:00",
          "0:13:15",
          "0:13:30",
          "0:13:45",
          "0:14:00",
          "0:14:15",
          "0:14:30",
          "0:14:45",
          "0:15:00"
         ],
         "xaxis": "x",
         "y": [
          9.916666666666666e-7,
          9.731548289332832e-7,
          9.604632176889883e-7,
          9.554422674009923e-7,
          7.126664585228122e-7,
          7.721719843818591e-7,
          7.439764478313086e-7,
          7.531443777772199e-7,
          7.466427740978954e-7,
          7.521651611424315e-7,
          7.313690840772554e-7,
          7.702069289282387e-7,
          7.536498184062818e-7,
          0,
          0,
          0,
          0,
          0,
          0,
          0,
          2.4640685996698137e-7,
          2.469553928001919e-7,
          2.517867869488117e-7,
          2.537555826228176e-7,
          2.544732766706171e-7,
          2.399150015423106e-7,
          2.506840092251715e-7,
          2.4861309409650453e-7,
          2.456735139384623e-7,
          4.913056447509256e-7,
          4.999857146938659e-7,
          4.999857146938659e-7,
          5.01739962512857e-7,
          5.082444510596896e-7,
          4.738502362481892e-7,
          4.788010820904455e-7,
          5.039433567666994e-7,
          5.025648757408346e-7,
          5.025648757408346e-7,
          2.5044543509527663e-7,
          2.492176346398271e-7,
          2.494121000498824e-7,
          2.4402838025573407e-7,
          2.5241507134331695e-7,
          2.514286535277236e-7,
          2.5165553390519056e-7,
          2.5165553390519056e-7,
          2.496941246972458e-7,
          0,
          0,
          0,
          0,
          0,
          0,
          0,
          0,
          0,
          0,
          0,
          0,
          0
         ],
         "yaxis": "y"
        },
        {
         "hovertemplate": "variable=ot-ditto-policies-575d5579db-pl9dm<br>Time=%{x}<br>value=%{y}<extra></extra>",
         "legendgroup": "ot-ditto-policies-575d5579db-pl9dm",
         "line": {
          "color": "#FFA15A",
          "dash": "solid"
         },
         "marker": {
          "symbol": "circle"
         },
         "mode": "lines",
         "name": "ot-ditto-policies-575d5579db-pl9dm",
         "orientation": "v",
         "showlegend": true,
         "type": "scatter",
         "x": [
          "0:00:00",
          "0:00:15",
          "0:00:30",
          "0:00:45",
          "0:01:00",
          "0:01:15",
          "0:01:30",
          "0:01:45",
          "0:02:00",
          "0:02:15",
          "0:02:30",
          "0:02:45",
          "0:03:00",
          "0:03:15",
          "0:03:30",
          "0:03:45",
          "0:04:00",
          "0:04:15",
          "0:04:30",
          "0:04:45",
          "0:05:00",
          "0:05:15",
          "0:05:30",
          "0:05:45",
          "0:06:00",
          "0:06:15",
          "0:06:30",
          "0:06:45",
          "0:07:00",
          "0:07:15",
          "0:07:30",
          "0:07:45",
          "0:08:00",
          "0:08:15",
          "0:08:30",
          "0:08:45",
          "0:09:00",
          "0:09:15",
          "0:09:30",
          "0:09:45",
          "0:10:00",
          "0:10:15",
          "0:10:30",
          "0:10:45",
          "0:11:00",
          "0:11:15",
          "0:11:30",
          "0:11:45",
          "0:12:00",
          "0:12:15",
          "0:12:30",
          "0:12:45",
          "0:13:00",
          "0:13:15",
          "0:13:30",
          "0:13:45",
          "0:14:00",
          "0:14:15",
          "0:14:30",
          "0:14:45",
          "0:15:00"
         ],
         "xaxis": "x",
         "y": [
          0.00935421226226072,
          0.009340341008727555,
          0.00934889438185666,
          0.009360909147295367,
          0.009368628665840562,
          0.009356877336251023,
          0.009363092186395819,
          0.009372061463498034,
          0.00918315989395798,
          0.009283841323978317,
          0.009382303163044716,
          0.009376411815812337,
          0.009198932539126715,
          0.009389331529364605,
          0.009405629102963949,
          0.00937186556849914,
          0.00917860541753668,
          0.009381415102652215,
          0.009386125990059889,
          0.009406207919334395,
          0.009202479576573469,
          0.009215998773480904,
          0.009398224219084296,
          0.009378961962367469,
          0.009228606891999514,
          0.009419311276164756,
          0.009413020679822607,
          0.009378100195891033,
          0.00930901421220374,
          0.009426753763335068,
          0.009425713369443789,
          0.009398510401800416,
          0.009222450038289568,
          0.009406485509994417,
          0.009416428743661697,
          0.009438616509181673,
          0.00919746212520651,
          0.009405212086057428,
          0.009383887877956128,
          0.009444892034763909,
          0.009429198278790624,
          0.00923202189799209,
          0.009456107871926911,
          0.009385281937581676,
          0.00919433315955396,
          0.009203333118385889,
          0.009430249627596457,
          0.009411554872906444,
          0.009203711423191364,
          0.009207191136162921,
          0.00941200275681694,
          0.009362679519636043,
          0.009175446708383425,
          0.009367865909394354,
          0.009359372277883861,
          0.009395103473440948,
          0.009195203036319868,
          0.00916794472094844,
          0.009073890813518889,
          0.009367082042633663,
          0.009380365430772114
         ],
         "yaxis": "y"
        },
        {
         "hovertemplate": "variable=ot-ditto-things-588dd96f9-lrw9k<br>Time=%{x}<br>value=%{y}<extra></extra>",
         "legendgroup": "ot-ditto-things-588dd96f9-lrw9k",
         "line": {
          "color": "#19d3f3",
          "dash": "solid"
         },
         "marker": {
          "symbol": "circle"
         },
         "mode": "lines",
         "name": "ot-ditto-things-588dd96f9-lrw9k",
         "orientation": "v",
         "showlegend": true,
         "type": "scatter",
         "x": [
          "0:00:00",
          "0:00:15",
          "0:00:30",
          "0:00:45",
          "0:01:00",
          "0:01:15",
          "0:01:30",
          "0:01:45",
          "0:02:00",
          "0:02:15",
          "0:02:30",
          "0:02:45",
          "0:03:00",
          "0:03:15",
          "0:03:30",
          "0:03:45",
          "0:04:00",
          "0:04:15",
          "0:04:30",
          "0:04:45",
          "0:05:00",
          "0:05:15",
          "0:05:30",
          "0:05:45",
          "0:06:00",
          "0:06:15",
          "0:06:30",
          "0:06:45",
          "0:07:00",
          "0:07:15",
          "0:07:30",
          "0:07:45",
          "0:08:00",
          "0:08:15",
          "0:08:30",
          "0:08:45",
          "0:09:00",
          "0:09:15",
          "0:09:30",
          "0:09:45",
          "0:10:00",
          "0:10:15",
          "0:10:30",
          "0:10:45",
          "0:11:00",
          "0:11:15",
          "0:11:30",
          "0:11:45",
          "0:12:00",
          "0:12:15",
          "0:12:30",
          "0:12:45",
          "0:13:00",
          "0:13:15",
          "0:13:30",
          "0:13:45",
          "0:14:00",
          "0:14:15",
          "0:14:30",
          "0:14:45",
          "0:15:00"
         ],
         "xaxis": "x",
         "y": [
          0.011117475893936808,
          0.01111353805183964,
          0.011120080980186351,
          0.0111194321347833,
          0.01085609681115676,
          0.011121537880483439,
          0.011159293513211986,
          0.011094287438057989,
          0.010873773826147515,
          0.01117180959832145,
          0.011167147876919352,
          0.011158757275736132,
          0.010938487762332668,
          0.011147373009149739,
          0.011180538217388281,
          0.011141110541456606,
          0.011072917754811144,
          0.011108090937657971,
          0.011104077554229428,
          0.011106487892313638,
          0.010872965425955484,
          0.011107700061043994,
          0.011109944124540744,
          0.011137638758031497,
          0.010898166061347045,
          0.011143768173290604,
          0.011144198593792877,
          0.01111588372832663,
          0.01087319119966099,
          0.01109972372101293,
          0.011132079923116153,
          0.011095793632031028,
          0.011117857952948904,
          0.010790300354587876,
          0.011122800417547856,
          0.011111335384366544,
          0.010624411280942506,
          0.010957198595396019,
          0.011185137927490155,
          0.011134963988369424,
          0.010972918027760849,
          0.010953542442419884,
          0.011187399893219435,
          0.011196720612985465,
          0.010901213898478987,
          0.011153697370054198,
          0.01117846811320018,
          0.011138279019395491,
          0.010935451086394484,
          0.01094041261960773,
          0.011183496231425791,
          0.011144538096851897,
          0.010889696916595477,
          0.011130628276000342,
          0.011111560160954471,
          0.010454194074074072,
          0.011109294356396014,
          0.010907842609331126,
          0.01113019368596855,
          0.010819093480408404,
          0.0111104137547326
         ],
         "yaxis": "y"
        },
        {
         "hovertemplate": "variable=ot-ditto-thingssearch-c9559c6d-dbvf9<br>Time=%{x}<br>value=%{y}<extra></extra>",
         "legendgroup": "ot-ditto-thingssearch-c9559c6d-dbvf9",
         "line": {
          "color": "#FF6692",
          "dash": "solid"
         },
         "marker": {
          "symbol": "circle"
         },
         "mode": "lines",
         "name": "ot-ditto-thingssearch-c9559c6d-dbvf9",
         "orientation": "v",
         "showlegend": true,
         "type": "scatter",
         "x": [
          "0:00:00",
          "0:00:15",
          "0:00:30",
          "0:00:45",
          "0:01:00",
          "0:01:15",
          "0:01:30",
          "0:01:45",
          "0:02:00",
          "0:02:15",
          "0:02:30",
          "0:02:45",
          "0:03:00",
          "0:03:15",
          "0:03:30",
          "0:03:45",
          "0:04:00",
          "0:04:15",
          "0:04:30",
          "0:04:45",
          "0:05:00",
          "0:05:15",
          "0:05:30",
          "0:05:45",
          "0:06:00",
          "0:06:15",
          "0:06:30",
          "0:06:45",
          "0:07:00",
          "0:07:15",
          "0:07:30",
          "0:07:45",
          "0:08:00",
          "0:08:15",
          "0:08:30",
          "0:08:45",
          "0:09:00",
          "0:09:15",
          "0:09:30",
          "0:09:45",
          "0:10:00",
          "0:10:15",
          "0:10:30",
          "0:10:45",
          "0:11:00",
          "0:11:15",
          "0:11:30",
          "0:11:45",
          "0:12:00",
          "0:12:15",
          "0:12:30",
          "0:12:45",
          "0:13:00",
          "0:13:15",
          "0:13:30",
          "0:13:45",
          "0:14:00",
          "0:14:15",
          "0:14:30",
          "0:14:45",
          "0:15:00"
         ],
         "xaxis": "x",
         "y": [
          0.006865131784344061,
          0.006879197372049752,
          0.006852837730364195,
          0.006831047409040792,
          0.0068208241125657515,
          0.006847833100333369,
          0.006857420822397201,
          0.00685600550352211,
          0.006774288978371403,
          0.006837068932773023,
          0.0068348486718503585,
          0.006830887695820318,
          0.006754788060344677,
          0.00682861191755222,
          0.006817639966019019,
          0.006796208977426857,
          0.006830948696498264,
          0.00682561093047992,
          0.006855808188458493,
          0.006847640259837762,
          0.006753206493949208,
          0.006770982875400284,
          0.0068417418656398004,
          0.006838377368001008,
          0.00672740861952304,
          0.0068199553244142775,
          0.006820869413102424,
          0.006803200742611967,
          0.006741219557117153,
          0.006752928087900619,
          0.006824334108005184,
          0.006814195086046756,
          0.006731005955066628,
          0.006818427490869324,
          0.00684436113117238,
          0.006835024008421745,
          0.006823561992008047,
          0.00685841711689148,
          0.006831055074046271,
          0.006843883906111756,
          0.006825920929820616,
          0.006818646721406744,
          0.006835267299170548,
          0.006854195036594963,
          0.006761290115829842,
          0.0068542295656010025,
          0.006604609802488351,
          0.006846471174916619,
          0.006823105033678975,
          0.0068219816632267664,
          0.0068446686386491795,
          0.006831125218013021,
          0.00677866780926375,
          0.0067778268567228695,
          0.00687505412061978,
          0.006882405693950178,
          0.006790253888820841,
          0.0068832876170707,
          0.006862881654431637,
          0.006886783761877048,
          0.006812149992162674
         ],
         "yaxis": "y"
        },
        {
         "hovertemplate": "variable=ot-mosquitto-5f7bdff747-rtf8v<br>Time=%{x}<br>value=%{y}<extra></extra>",
         "legendgroup": "ot-mosquitto-5f7bdff747-rtf8v",
         "line": {
          "color": "#B6E880",
          "dash": "solid"
         },
         "marker": {
          "symbol": "circle"
         },
         "mode": "lines",
         "name": "ot-mosquitto-5f7bdff747-rtf8v",
         "orientation": "v",
         "showlegend": true,
         "type": "scatter",
         "x": [
          "0:00:00",
          "0:00:15",
          "0:00:30",
          "0:00:45",
          "0:01:00",
          "0:01:15",
          "0:01:30",
          "0:01:45",
          "0:02:00",
          "0:02:15",
          "0:02:30",
          "0:02:45",
          "0:03:00",
          "0:03:15",
          "0:03:30",
          "0:03:45",
          "0:04:00",
          "0:04:15",
          "0:04:30",
          "0:04:45",
          "0:05:00",
          "0:05:15",
          "0:05:30",
          "0:05:45",
          "0:06:00",
          "0:06:15",
          "0:06:30",
          "0:06:45",
          "0:07:00",
          "0:07:15",
          "0:07:30",
          "0:07:45",
          "0:08:00",
          "0:08:15",
          "0:08:30",
          "0:08:45",
          "0:09:00",
          "0:09:15",
          "0:09:30",
          "0:09:45",
          "0:10:00",
          "0:10:15",
          "0:10:30",
          "0:10:45",
          "0:11:00",
          "0:11:15",
          "0:11:30",
          "0:11:45",
          "0:12:00",
          "0:12:15",
          "0:12:30",
          "0:12:45",
          "0:13:00",
          "0:13:15",
          "0:13:30",
          "0:13:45",
          "0:14:00",
          "0:14:15",
          "0:14:30",
          "0:14:45",
          "0:15:00"
         ],
         "xaxis": "x",
         "y": [
          0.00005771502897671696,
          0.000058987515945477215,
          0.00005714106744525142,
          0.00005804917957955427,
          0.00005898206286094669,
          0.00005645065686665445,
          0.00005742310321257689,
          0.00005830309623315731,
          0.000057465179789027924,
          0.00005786848264686882,
          0.00005806650290404131,
          0.000058446628943061595,
          0.00005791269800845515,
          0.000058891952906730244,
          0.000058688239717875885,
          0.00005727360456115583,
          0.00005862661068063432,
          0.00005458981033740721,
          0.00005784894419253816,
          0.00005780402521956994,
          0.00005710261610289711,
          0.00005824035801970352,
          0.000058205913048350836,
          0.00005724842188501235,
          0.00005872932620021679,
          0.00005872624604464957,
          0.00005816456161348915,
          0.00005778078003341985,
          0.00005957739634434005,
          0.00005765741784991279,
          0.00005892506398428666,
          0.0000579438420982404,
          0.000057299649151298,
          0.00005516867579353315,
          0.00005830220359031701,
          0.00005864590637835053,
          0.000059794869984288674,
          0.000057318693614938105,
          0.000059294900143284216,
          0.000058353711727944865,
          0.00005935555618119881,
          0.00005868578089389168,
          0.00005805616482686707,
          0.000058591885013156444,
          0.00005813133507610995,
          0.00005745928705705093,
          0.00005849115396600075,
          0.00005848227851598109,
          0.00005722398987307126,
          0.00005673657823413082,
          0.00005799527515689088,
          0.000058222146415157395,
          0.0000578680856542076,
          0.00005912419504479677,
          0.00005610575484166032,
          0.000057363134086240185,
          0.0000587189277590586,
          0.000057937908836050245,
          0.000057176148046607264,
          0.00005638013211807007,
          0.00005783726790213914
         ],
         "yaxis": "y"
        },
        {
         "hovertemplate": "variable=Combined<br>Time=%{x}<br>value=%{y}<extra></extra>",
         "legendgroup": "Combined",
         "line": {
          "color": "#FF97FF",
          "dash": "solid"
         },
         "marker": {
          "symbol": "circle"
         },
         "mode": "lines",
         "name": "Combined",
         "orientation": "v",
         "showlegend": true,
         "type": "scatter",
         "x": [
          "0:00:00",
          "0:00:15",
          "0:00:30",
          "0:00:45",
          "0:01:00",
          "0:01:15",
          "0:01:30",
          "0:01:45",
          "0:02:00",
          "0:02:15",
          "0:02:30",
          "0:02:45",
          "0:03:00",
          "0:03:15",
          "0:03:30",
          "0:03:45",
          "0:04:00",
          "0:04:15",
          "0:04:30",
          "0:04:45",
          "0:05:00",
          "0:05:15",
          "0:05:30",
          "0:05:45",
          "0:06:00",
          "0:06:15",
          "0:06:30",
          "0:06:45",
          "0:07:00",
          "0:07:15",
          "0:07:30",
          "0:07:45",
          "0:08:00",
          "0:08:15",
          "0:08:30",
          "0:08:45",
          "0:09:00",
          "0:09:15",
          "0:09:30",
          "0:09:45",
          "0:10:00",
          "0:10:15",
          "0:10:30",
          "0:10:45",
          "0:11:00",
          "0:11:15",
          "0:11:30",
          "0:11:45",
          "0:12:00",
          "0:12:15",
          "0:12:30",
          "0:12:45",
          "0:13:00",
          "0:13:15",
          "0:13:30",
          "0:13:45",
          "0:14:00",
          "0:14:15",
          "0:14:30",
          "0:14:45",
          "0:15:00"
         ],
         "xaxis": "x",
         "y": [
          0.05238270170928726,
          0.05227260327501167,
          0.05239883742630109,
          0.052339966308801486,
          0.05154390071606495,
          0.05213858122864682,
          0.05243229393202699,
          0.05229906068059056,
          0.051892005497046145,
          0.051986032251343274,
          0.05261008463027927,
          0.052441658112634515,
          0.05122620586918731,
          0.05219235614595572,
          0.05258647519598889,
          0.05241129013630835,
          0.05132181737590691,
          0.05215124384828873,
          0.052485393228137896,
          0.05221202794220461,
          0.05169022979949514,
          0.05192043938701861,
          0.05243085398173606,
          0.0525342162735898,
          0.051125930394000034,
          0.05231900314250336,
          0.0522274768191555,
          0.052252898004918655,
          0.052247573559524946,
          0.0521994324654422,
          0.052707980394702064,
          0.05261660646799122,
          0.05190721049740582,
          0.05173531356463398,
          0.05274613117372305,
          0.05247415552243601,
          0.05172732195834322,
          0.05251154033916417,
          0.05253922544185158,
          0.05280968146857911,
          0.05216439571419685,
          0.05197509553351072,
          0.05295578375501261,
          0.052611035153868106,
          0.05191727737893978,
          0.05230251511274046,
          0.052571951212870276,
          0.052593474461664284,
          0.05157703492387173,
          0.051342697574414356,
          0.05263555974808005,
          0.05212868973094638,
          0.051731406565242666,
          0.05242515475007892,
          0.05263159244297669,
          0.051997879704151866,
          0.051789047161827396,
          0.05152464344377285,
          0.05222306597822179,
          0.051783698735944204,
          0.052081646604821556
         ],
         "yaxis": "y"
        }
       ],
       "layout": {
        "legend": {
         "title": {
          "text": "variable"
         },
         "tracegroupgap": 0
        },
        "template": {
         "data": {
          "bar": [
           {
            "error_x": {
             "color": "#2a3f5f"
            },
            "error_y": {
             "color": "#2a3f5f"
            },
            "marker": {
             "line": {
              "color": "#E5ECF6",
              "width": 0.5
             },
             "pattern": {
              "fillmode": "overlay",
              "size": 10,
              "solidity": 0.2
             }
            },
            "type": "bar"
           }
          ],
          "barpolar": [
           {
            "marker": {
             "line": {
              "color": "#E5ECF6",
              "width": 0.5
             },
             "pattern": {
              "fillmode": "overlay",
              "size": 10,
              "solidity": 0.2
             }
            },
            "type": "barpolar"
           }
          ],
          "carpet": [
           {
            "aaxis": {
             "endlinecolor": "#2a3f5f",
             "gridcolor": "white",
             "linecolor": "white",
             "minorgridcolor": "white",
             "startlinecolor": "#2a3f5f"
            },
            "baxis": {
             "endlinecolor": "#2a3f5f",
             "gridcolor": "white",
             "linecolor": "white",
             "minorgridcolor": "white",
             "startlinecolor": "#2a3f5f"
            },
            "type": "carpet"
           }
          ],
          "choropleth": [
           {
            "colorbar": {
             "outlinewidth": 0,
             "ticks": ""
            },
            "type": "choropleth"
           }
          ],
          "contour": [
           {
            "colorbar": {
             "outlinewidth": 0,
             "ticks": ""
            },
            "colorscale": [
             [
              0,
              "#0d0887"
             ],
             [
              0.1111111111111111,
              "#46039f"
             ],
             [
              0.2222222222222222,
              "#7201a8"
             ],
             [
              0.3333333333333333,
              "#9c179e"
             ],
             [
              0.4444444444444444,
              "#bd3786"
             ],
             [
              0.5555555555555556,
              "#d8576b"
             ],
             [
              0.6666666666666666,
              "#ed7953"
             ],
             [
              0.7777777777777778,
              "#fb9f3a"
             ],
             [
              0.8888888888888888,
              "#fdca26"
             ],
             [
              1,
              "#f0f921"
             ]
            ],
            "type": "contour"
           }
          ],
          "contourcarpet": [
           {
            "colorbar": {
             "outlinewidth": 0,
             "ticks": ""
            },
            "type": "contourcarpet"
           }
          ],
          "heatmap": [
           {
            "colorbar": {
             "outlinewidth": 0,
             "ticks": ""
            },
            "colorscale": [
             [
              0,
              "#0d0887"
             ],
             [
              0.1111111111111111,
              "#46039f"
             ],
             [
              0.2222222222222222,
              "#7201a8"
             ],
             [
              0.3333333333333333,
              "#9c179e"
             ],
             [
              0.4444444444444444,
              "#bd3786"
             ],
             [
              0.5555555555555556,
              "#d8576b"
             ],
             [
              0.6666666666666666,
              "#ed7953"
             ],
             [
              0.7777777777777778,
              "#fb9f3a"
             ],
             [
              0.8888888888888888,
              "#fdca26"
             ],
             [
              1,
              "#f0f921"
             ]
            ],
            "type": "heatmap"
           }
          ],
          "heatmapgl": [
           {
            "colorbar": {
             "outlinewidth": 0,
             "ticks": ""
            },
            "colorscale": [
             [
              0,
              "#0d0887"
             ],
             [
              0.1111111111111111,
              "#46039f"
             ],
             [
              0.2222222222222222,
              "#7201a8"
             ],
             [
              0.3333333333333333,
              "#9c179e"
             ],
             [
              0.4444444444444444,
              "#bd3786"
             ],
             [
              0.5555555555555556,
              "#d8576b"
             ],
             [
              0.6666666666666666,
              "#ed7953"
             ],
             [
              0.7777777777777778,
              "#fb9f3a"
             ],
             [
              0.8888888888888888,
              "#fdca26"
             ],
             [
              1,
              "#f0f921"
             ]
            ],
            "type": "heatmapgl"
           }
          ],
          "histogram": [
           {
            "marker": {
             "pattern": {
              "fillmode": "overlay",
              "size": 10,
              "solidity": 0.2
             }
            },
            "type": "histogram"
           }
          ],
          "histogram2d": [
           {
            "colorbar": {
             "outlinewidth": 0,
             "ticks": ""
            },
            "colorscale": [
             [
              0,
              "#0d0887"
             ],
             [
              0.1111111111111111,
              "#46039f"
             ],
             [
              0.2222222222222222,
              "#7201a8"
             ],
             [
              0.3333333333333333,
              "#9c179e"
             ],
             [
              0.4444444444444444,
              "#bd3786"
             ],
             [
              0.5555555555555556,
              "#d8576b"
             ],
             [
              0.6666666666666666,
              "#ed7953"
             ],
             [
              0.7777777777777778,
              "#fb9f3a"
             ],
             [
              0.8888888888888888,
              "#fdca26"
             ],
             [
              1,
              "#f0f921"
             ]
            ],
            "type": "histogram2d"
           }
          ],
          "histogram2dcontour": [
           {
            "colorbar": {
             "outlinewidth": 0,
             "ticks": ""
            },
            "colorscale": [
             [
              0,
              "#0d0887"
             ],
             [
              0.1111111111111111,
              "#46039f"
             ],
             [
              0.2222222222222222,
              "#7201a8"
             ],
             [
              0.3333333333333333,
              "#9c179e"
             ],
             [
              0.4444444444444444,
              "#bd3786"
             ],
             [
              0.5555555555555556,
              "#d8576b"
             ],
             [
              0.6666666666666666,
              "#ed7953"
             ],
             [
              0.7777777777777778,
              "#fb9f3a"
             ],
             [
              0.8888888888888888,
              "#fdca26"
             ],
             [
              1,
              "#f0f921"
             ]
            ],
            "type": "histogram2dcontour"
           }
          ],
          "mesh3d": [
           {
            "colorbar": {
             "outlinewidth": 0,
             "ticks": ""
            },
            "type": "mesh3d"
           }
          ],
          "parcoords": [
           {
            "line": {
             "colorbar": {
              "outlinewidth": 0,
              "ticks": ""
             }
            },
            "type": "parcoords"
           }
          ],
          "pie": [
           {
            "automargin": true,
            "type": "pie"
           }
          ],
          "scatter": [
           {
            "fillpattern": {
             "fillmode": "overlay",
             "size": 10,
             "solidity": 0.2
            },
            "type": "scatter"
           }
          ],
          "scatter3d": [
           {
            "line": {
             "colorbar": {
              "outlinewidth": 0,
              "ticks": ""
             }
            },
            "marker": {
             "colorbar": {
              "outlinewidth": 0,
              "ticks": ""
             }
            },
            "type": "scatter3d"
           }
          ],
          "scattercarpet": [
           {
            "marker": {
             "colorbar": {
              "outlinewidth": 0,
              "ticks": ""
             }
            },
            "type": "scattercarpet"
           }
          ],
          "scattergeo": [
           {
            "marker": {
             "colorbar": {
              "outlinewidth": 0,
              "ticks": ""
             }
            },
            "type": "scattergeo"
           }
          ],
          "scattergl": [
           {
            "marker": {
             "colorbar": {
              "outlinewidth": 0,
              "ticks": ""
             }
            },
            "type": "scattergl"
           }
          ],
          "scattermapbox": [
           {
            "marker": {
             "colorbar": {
              "outlinewidth": 0,
              "ticks": ""
             }
            },
            "type": "scattermapbox"
           }
          ],
          "scatterpolar": [
           {
            "marker": {
             "colorbar": {
              "outlinewidth": 0,
              "ticks": ""
             }
            },
            "type": "scatterpolar"
           }
          ],
          "scatterpolargl": [
           {
            "marker": {
             "colorbar": {
              "outlinewidth": 0,
              "ticks": ""
             }
            },
            "type": "scatterpolargl"
           }
          ],
          "scatterternary": [
           {
            "marker": {
             "colorbar": {
              "outlinewidth": 0,
              "ticks": ""
             }
            },
            "type": "scatterternary"
           }
          ],
          "surface": [
           {
            "colorbar": {
             "outlinewidth": 0,
             "ticks": ""
            },
            "colorscale": [
             [
              0,
              "#0d0887"
             ],
             [
              0.1111111111111111,
              "#46039f"
             ],
             [
              0.2222222222222222,
              "#7201a8"
             ],
             [
              0.3333333333333333,
              "#9c179e"
             ],
             [
              0.4444444444444444,
              "#bd3786"
             ],
             [
              0.5555555555555556,
              "#d8576b"
             ],
             [
              0.6666666666666666,
              "#ed7953"
             ],
             [
              0.7777777777777778,
              "#fb9f3a"
             ],
             [
              0.8888888888888888,
              "#fdca26"
             ],
             [
              1,
              "#f0f921"
             ]
            ],
            "type": "surface"
           }
          ],
          "table": [
           {
            "cells": {
             "fill": {
              "color": "#EBF0F8"
             },
             "line": {
              "color": "white"
             }
            },
            "header": {
             "fill": {
              "color": "#C8D4E3"
             },
             "line": {
              "color": "white"
             }
            },
            "type": "table"
           }
          ]
         },
         "layout": {
          "annotationdefaults": {
           "arrowcolor": "#2a3f5f",
           "arrowhead": 0,
           "arrowwidth": 1
          },
          "autotypenumbers": "strict",
          "coloraxis": {
           "colorbar": {
            "outlinewidth": 0,
            "ticks": ""
           }
          },
          "colorscale": {
           "diverging": [
            [
             0,
             "#8e0152"
            ],
            [
             0.1,
             "#c51b7d"
            ],
            [
             0.2,
             "#de77ae"
            ],
            [
             0.3,
             "#f1b6da"
            ],
            [
             0.4,
             "#fde0ef"
            ],
            [
             0.5,
             "#f7f7f7"
            ],
            [
             0.6,
             "#e6f5d0"
            ],
            [
             0.7,
             "#b8e186"
            ],
            [
             0.8,
             "#7fbc41"
            ],
            [
             0.9,
             "#4d9221"
            ],
            [
             1,
             "#276419"
            ]
           ],
           "sequential": [
            [
             0,
             "#0d0887"
            ],
            [
             0.1111111111111111,
             "#46039f"
            ],
            [
             0.2222222222222222,
             "#7201a8"
            ],
            [
             0.3333333333333333,
             "#9c179e"
            ],
            [
             0.4444444444444444,
             "#bd3786"
            ],
            [
             0.5555555555555556,
             "#d8576b"
            ],
            [
             0.6666666666666666,
             "#ed7953"
            ],
            [
             0.7777777777777778,
             "#fb9f3a"
            ],
            [
             0.8888888888888888,
             "#fdca26"
            ],
            [
             1,
             "#f0f921"
            ]
           ],
           "sequentialminus": [
            [
             0,
             "#0d0887"
            ],
            [
             0.1111111111111111,
             "#46039f"
            ],
            [
             0.2222222222222222,
             "#7201a8"
            ],
            [
             0.3333333333333333,
             "#9c179e"
            ],
            [
             0.4444444444444444,
             "#bd3786"
            ],
            [
             0.5555555555555556,
             "#d8576b"
            ],
            [
             0.6666666666666666,
             "#ed7953"
            ],
            [
             0.7777777777777778,
             "#fb9f3a"
            ],
            [
             0.8888888888888888,
             "#fdca26"
            ],
            [
             1,
             "#f0f921"
            ]
           ]
          },
          "colorway": [
           "#636efa",
           "#EF553B",
           "#00cc96",
           "#ab63fa",
           "#FFA15A",
           "#19d3f3",
           "#FF6692",
           "#B6E880",
           "#FF97FF",
           "#FECB52"
          ],
          "font": {
           "color": "#2a3f5f"
          },
          "geo": {
           "bgcolor": "white",
           "lakecolor": "white",
           "landcolor": "#E5ECF6",
           "showlakes": true,
           "showland": true,
           "subunitcolor": "white"
          },
          "hoverlabel": {
           "align": "left"
          },
          "hovermode": "closest",
          "mapbox": {
           "style": "light"
          },
          "paper_bgcolor": "white",
          "plot_bgcolor": "#E5ECF6",
          "polar": {
           "angularaxis": {
            "gridcolor": "white",
            "linecolor": "white",
            "ticks": ""
           },
           "bgcolor": "#E5ECF6",
           "radialaxis": {
            "gridcolor": "white",
            "linecolor": "white",
            "ticks": ""
           }
          },
          "scene": {
           "xaxis": {
            "backgroundcolor": "#E5ECF6",
            "gridcolor": "white",
            "gridwidth": 2,
            "linecolor": "white",
            "showbackground": true,
            "ticks": "",
            "zerolinecolor": "white"
           },
           "yaxis": {
            "backgroundcolor": "#E5ECF6",
            "gridcolor": "white",
            "gridwidth": 2,
            "linecolor": "white",
            "showbackground": true,
            "ticks": "",
            "zerolinecolor": "white"
           },
           "zaxis": {
            "backgroundcolor": "#E5ECF6",
            "gridcolor": "white",
            "gridwidth": 2,
            "linecolor": "white",
            "showbackground": true,
            "ticks": "",
            "zerolinecolor": "white"
           }
          },
          "shapedefaults": {
           "line": {
            "color": "#2a3f5f"
           }
          },
          "ternary": {
           "aaxis": {
            "gridcolor": "white",
            "linecolor": "white",
            "ticks": ""
           },
           "baxis": {
            "gridcolor": "white",
            "linecolor": "white",
            "ticks": ""
           },
           "bgcolor": "#E5ECF6",
           "caxis": {
            "gridcolor": "white",
            "linecolor": "white",
            "ticks": ""
           }
          },
          "title": {
           "x": 0.05
          },
          "xaxis": {
           "automargin": true,
           "gridcolor": "white",
           "linecolor": "white",
           "ticks": "",
           "title": {
            "standoff": 15
           },
           "zerolinecolor": "white",
           "zerolinewidth": 2
          },
          "yaxis": {
           "automargin": true,
           "gridcolor": "white",
           "linecolor": "white",
           "ticks": "",
           "title": {
            "standoff": 15
           },
           "zerolinecolor": "white",
           "zerolinewidth": 2
          }
         }
        },
        "title": {
         "text": "Network Usage mb"
        },
        "xaxis": {
         "anchor": "y",
         "domain": [
          0,
          1
         ],
         "title": {
          "text": "Time"
         }
        },
        "yaxis": {
         "anchor": "x",
         "domain": [
          0,
          1
         ],
         "title": {
          "text": "value"
         }
        }
       }
      }
     },
     "metadata": {},
     "output_type": "display_data"
    }
   ],
   "source": [
    "# Plot using matplotlib\n",
    "plt.figure(figsize=(15, 5))\n",
    "plt.plot(light_network.index, light_network)\n",
    "plt.xlabel('Time')\n",
    "plt.xticks(rotation=90)\n",
    "plt.ylabel('Value')\n",
    "plt.title('Network Usage mb')\n",
    "plt.legend(light_network.keys(), bbox_to_anchor=(1.01, 1), loc=\"upper left\")\n",
    "plt.show()\n",
    "\n",
    "# Plot using plotly\n",
    "fig = px.line(light_network, x=light_network.index, y=light_network.keys(), title='Network Usage mb')\n",
    "fig.show()"
   ]
  },
  {
   "cell_type": "markdown",
   "metadata": {},
   "source": [
    "### Combining total measurements into one dataset"
   ]
  },
  {
   "cell_type": "code",
   "execution_count": 9,
   "metadata": {},
   "outputs": [
    {
     "name": "stdout",
     "output_type": "stream",
     "text": [
      "          Combined     Combined  Combined\n",
      "Time                                     \n",
      "0:00:00  41.075906  2790.461440  0.052383\n",
      "0:00:15  40.874390  2790.330368  0.052273\n",
      "0:00:30  41.025444  2791.530496  0.052399\n",
      "0:00:45  40.961704  2789.629952  0.052340\n",
      "0:01:00  41.763083  2790.359040  0.051544\n",
      "...            ...          ...       ...\n",
      "0:14:00  40.519814  3116.888064  0.051789\n",
      "0:14:15  40.483290  2794.156032  0.051525\n",
      "0:14:30  41.312718  2793.005056  0.052223\n",
      "0:14:45  40.710506  2792.222720  0.051784\n",
      "0:15:00  40.170597  2792.275968  0.052082\n",
      "\n",
      "[61 rows x 3 columns]\n"
     ]
    }
   ],
   "source": [
    "# Combine one column from each dataframe into a new dataframe\n",
    "# Select the desired columns from each dataframe\n",
    "column_cpu = light_cpu['Combined']\n",
    "column_mem = light_mem['Combined']\n",
    "column_network = light_network['Combined']\n",
    "\n",
    "# Combine the selected columns into a new dataframe\n",
    "combined_df = pd.concat([column_cpu, column_mem, column_network], axis=1)\n",
    "combined_df.columns = ['CPU', 'Memory', 'Network']\n",
    "combined_df['Time'] = combined_df.index\n",
    "# combined_df.set_index('Time', inplace=True)\n",
    "# Print the combined dataframe\n",
    "print(combined_df)\n",
    "\n",
    "combined_df.to_csv('light_combined.csv', index=False)\n"
   ]
  }
 ],
 "metadata": {
  "kernelspec": {
   "display_name": "general_env",
   "language": "python",
   "name": "python3"
  },
  "language_info": {
   "codemirror_mode": {
    "name": "ipython",
    "version": 3
   },
   "file_extension": ".py",
   "mimetype": "text/x-python",
   "name": "python",
   "nbconvert_exporter": "python",
   "pygments_lexer": "ipython3",
   "version": "3.11.3"
  }
 },
 "nbformat": 4,
 "nbformat_minor": 2
}
