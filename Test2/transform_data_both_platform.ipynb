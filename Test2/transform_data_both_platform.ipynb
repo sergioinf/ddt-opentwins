{
 "cells": [
  {
   "cell_type": "code",
   "execution_count": 1,
   "metadata": {},
   "outputs": [],
   "source": [
    "import numpy as np\n",
    "import matplotlib.pyplot as plt\n",
    "import plotly.express as px\n",
    "import plotly.io as pio   \n",
    "pio.kaleido.scope.mathjax = None\n",
    "import pandas as pd\n",
    "import time\n",
    "from datetime import timedelta"
   ]
  },
  {
   "cell_type": "code",
   "execution_count": 2,
   "metadata": {},
   "outputs": [],
   "source": [
    "# Load the data\n",
    "light = pd.read_csv('light_combined.csv')\n",
    "full = pd.read_csv('full_combined.csv')\n",
    "\n",
    "\n",
    "cpu = pd.concat([light['CPU'], full['CPU'], light['Time']], axis=1)\n",
    "cpu.set_index('Time', inplace=True)\n",
    "cpu.columns = ['Lighweight architecture', 'Main architecture']\n",
    "\n",
    "mem = pd.concat([light['Memory'], full['Memory'], light['Time']], axis=1)\n",
    "mem.set_index('Time', inplace=True)\n",
    "mem.columns = ['Lighweight architecture', 'Main architecture']\n",
    "\n",
    "network = pd.concat([light['Network'], full['Network'], light['Time']], axis=1)\n",
    "network.set_index('Time', inplace=True)\n",
    "network.columns = ['Lighweight architecture', 'Main architecture']\n"
   ]
  },
  {
   "cell_type": "markdown",
   "metadata": {},
   "source": [
    "### CPU plot"
   ]
  },
  {
   "cell_type": "code",
   "execution_count": 3,
   "metadata": {},
   "outputs": [],
   "source": [
    "# Plot using plotly\n",
    "fig = px.line(cpu, x=cpu.index, y=cpu.keys(), title='CPU usage', labels={'value': 'CPU %'}, width=1000, height=400)\n",
    "fig.update_layout(template=\"simple_white\")\n",
    "fig.write_image(\"both_cpu.pdf\")"
   ]
  },
  {
   "cell_type": "markdown",
   "metadata": {},
   "source": [
    "### Memory plot"
   ]
  },
  {
   "cell_type": "code",
   "execution_count": 4,
   "metadata": {},
   "outputs": [],
   "source": [
    "# Plot using plotly\n",
    "fig = px.line(mem, x=mem.index, y=mem.keys(), title='Memory Usage', labels={'value': 'mb'}, width=1000, height=400)\n",
    "fig.update_layout(template=\"simple_white\")\n",
    "fig.write_image(\"both_memory.pdf\")"
   ]
  },
  {
   "cell_type": "markdown",
   "metadata": {},
   "source": [
    "### Network plot"
   ]
  },
  {
   "cell_type": "code",
   "execution_count": 5,
   "metadata": {},
   "outputs": [],
   "source": [
    "# Plot using plotly\n",
    "fig = px.line(network, x=network.index, y=network.keys(), title='Network Usage', labels={'value': 'mb'}, width=1000, height=400)\n",
    "fig.update_layout(template=\"simple_white\")\n",
    "fig.write_image(\"both_network.pdf\")"
   ]
  }
 ],
 "metadata": {
  "kernelspec": {
   "display_name": "general_env",
   "language": "python",
   "name": "python3"
  },
  "language_info": {
   "codemirror_mode": {
    "name": "ipython",
    "version": 3
   },
   "file_extension": ".py",
   "mimetype": "text/x-python",
   "name": "python",
   "nbconvert_exporter": "python",
   "pygments_lexer": "ipython3",
   "version": "3.11.3"
  }
 },
 "nbformat": 4,
 "nbformat_minor": 2
}
